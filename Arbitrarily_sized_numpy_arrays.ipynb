{
  "nbformat": 4,
  "nbformat_minor": 0,
  "metadata": {
    "colab": {
      "name": "Arbitrarily_sized_numpy_arrays.ipynb",
      "provenance": [],
      "authorship_tag": "ABX9TyPXBzuDzD7UgvSg56W2FMGq",
      "include_colab_link": true
    },
    "kernelspec": {
      "name": "python3",
      "display_name": "Python 3"
    }
  },
  "cells": [
    {
      "cell_type": "markdown",
      "metadata": {
        "id": "view-in-github",
        "colab_type": "text"
      },
      "source": [
        "<a href=\"https://colab.research.google.com/github/dwivedys/Python_Programs/blob/Numpy_Programs/Arbitrarily_sized_numpy_arrays.ipynb\" target=\"_parent\"><img src=\"https://colab.research.google.com/assets/colab-badge.svg\" alt=\"Open In Colab\"/></a>"
      ]
    },
    {
      "cell_type": "code",
      "metadata": {
        "id": "hTQi1LeS5Azd"
      },
      "source": [
        "''' This function performs the following three tasks:\n",
        "Given a numpy array of arbitrary size, \n",
        "1. It reshapes the array into desired shape\n",
        "2. It then calculates row means\n",
        "3. It also calculates column means\n",
        "Finally it returns the re-shaped array and the row and column means '''\n",
        "\n",
        "def generic_arr_calcs(n, s1, s2):\n",
        "  import numpy as np\n",
        "  arr = np.array([n]).reshape(s1, s2)\n",
        "  column_means = arr.mean(axis = 0)\n",
        "  row_means = arr.mean(axis = 1)\n",
        "  return arr, column_means, row_means  "
      ],
      "execution_count": 3,
      "outputs": []
    },
    {
      "cell_type": "markdown",
      "metadata": {
        "id": "KavOU2UJ5LL7"
      },
      "source": [
        "# **Example Usage**"
      ]
    },
    {
      "cell_type": "code",
      "metadata": {
        "colab": {
          "base_uri": "https://localhost:8080/"
        },
        "id": "EMoQjfYc5Q7p",
        "outputId": "7b6b083c-028e-4926-8131-2e800eda3281"
      },
      "source": [
        "import numpy as np\n",
        "x = np.arange(20)\n",
        "generic_arr_calcs(x, 4,5)"
      ],
      "execution_count": 5,
      "outputs": [
        {
          "output_type": "execute_result",
          "data": {
            "text/plain": [
              "(array([[ 0,  1,  2,  3,  4],\n",
              "        [ 5,  6,  7,  8,  9],\n",
              "        [10, 11, 12, 13, 14],\n",
              "        [15, 16, 17, 18, 19]]),\n",
              " array([ 7.5,  8.5,  9.5, 10.5, 11.5]),\n",
              " array([ 2.,  7., 12., 17.]))"
            ]
          },
          "metadata": {
            "tags": []
          },
          "execution_count": 5
        }
      ]
    },
    {
      "cell_type": "code",
      "metadata": {
        "id": "2A4WbZWZ5Ri-"
      },
      "source": [
        ""
      ],
      "execution_count": null,
      "outputs": []
    }
  ]
}
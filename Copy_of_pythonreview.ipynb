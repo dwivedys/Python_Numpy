{
  "nbformat": 4,
  "nbformat_minor": 0,
  "metadata": {
    "colab": {
      "provenance": [],
      "authorship_tag": "ABX9TyNc4WPpbgLZxvEClb5X0fDy",
      "include_colab_link": true
    },
    "kernelspec": {
      "name": "python3",
      "display_name": "Python 3"
    },
    "language_info": {
      "name": "python"
    }
  },
  "cells": [
    {
      "cell_type": "markdown",
      "metadata": {
        "id": "view-in-github",
        "colab_type": "text"
      },
      "source": [
        "<a href=\"https://colab.research.google.com/github/dwivedys/Python_Programs/blob/master/Copy_of_pythonreview.ipynb\" target=\"_parent\"><img src=\"https://colab.research.google.com/assets/colab-badge.svg\" alt=\"Open In Colab\"/></a>"
      ]
    },
    {
      "cell_type": "code",
      "execution_count": null,
      "metadata": {
        "colab": {
          "base_uri": "https://localhost:8080/"
        },
        "id": "ImVSd8WiRBZB",
        "outputId": "9f8c032e-6828-4fbf-b274-2318bbd62d8b"
      },
      "outputs": [
        {
          "output_type": "stream",
          "name": "stdout",
          "text": [
            "1\n",
            "2\n"
          ]
        }
      ],
      "source": [
        "a = [1,2,3]\n",
        "print(a[0])\n",
        "for item in a:\n",
        "  if item%2 == 0:\n",
        "    print(item)\n",
        "    "
      ]
    },
    {
      "cell_type": "code",
      "source": [
        "s1 = {1,2}\n",
        "s2 = {1,2,3}\n",
        "#print(s1 ^ s2)\n",
        "myList = []\n",
        "myList.append(s1^s2)\n",
        "myList.append(s1&s2)\n",
        "myList.append(s1|s2)\n",
        "print(myList)"
      ],
      "metadata": {
        "id": "x1yH2BO-O8ko",
        "outputId": "354d9cc4-4957-4c16-fd98-49aceb2026fd",
        "colab": {
          "base_uri": "https://localhost:8080/"
        }
      },
      "execution_count": null,
      "outputs": [
        {
          "output_type": "stream",
          "name": "stdout",
          "text": [
            "[{3}, {1, 2}, {1, 2, 3}]\n"
          ]
        }
      ]
    },
    {
      "cell_type": "code",
      "source": [
        "# Creating a Set\n",
        "myset = {'a', 'b', 'c'}\n",
        "print(myset)"
      ],
      "metadata": {
        "colab": {
          "base_uri": "https://localhost:8080/"
        },
        "id": "YWqgser_UD8G",
        "outputId": "39295f43-29a9-435b-d836-8dc66b739fcb"
      },
      "execution_count": null,
      "outputs": [
        {
          "output_type": "stream",
          "name": "stdout",
          "text": [
            "{'c', 'b', 'a'}\n"
          ]
        }
      ]
    },
    {
      "cell_type": "code",
      "source": [
        "# Adding elements from an iterable to a set\n",
        "myset.add('d')\n",
        "mylist = [1, 2, 3]\n",
        "myset.update(mylist)\n",
        "print(myset)"
      ],
      "metadata": {
        "colab": {
          "base_uri": "https://localhost:8080/"
        },
        "id": "46iDW1FKYRAv",
        "outputId": "4954cc19-ffbf-47c8-e4a8-b20a533b09d4"
      },
      "execution_count": null,
      "outputs": [
        {
          "output_type": "stream",
          "name": "stdout",
          "text": [
            "{1, 2, 'b', 3, 'c', 'a', 'd'}\n"
          ]
        }
      ]
    },
    {
      "cell_type": "code",
      "source": [
        "# python classes\n",
        "class Person:\n",
        "  def __init__(self, name, age):\n",
        "    self.name = name\n",
        "    self.age = age\n",
        "\n",
        "sd = Person(\"Sammy\", 34)\n",
        "print (f'Person sd has name as {sd.name} and age {sd.age}')\n",
        "\n",
        "\n",
        "\n"
      ],
      "metadata": {
        "colab": {
          "base_uri": "https://localhost:8080/"
        },
        "id": "fjpjzRavYUgl",
        "outputId": "53357fc6-e763-4a4c-be2c-c82116dbcc7b"
      },
      "execution_count": null,
      "outputs": [
        {
          "output_type": "stream",
          "name": "stdout",
          "text": [
            "Person sd has name as Sammy and age 34\n"
          ]
        }
      ]
    },
    {
      "cell_type": "code",
      "source": [
        "\n",
        "\n",
        "ages = [13, 15, 16, 19, 22]\n",
        "cutoff_age = 18\n",
        "for age in ages:\n",
        "  print(f'Age = {age}: Since I am {age} {\"years old, I am a minor\" if age < cutoff_age else \"years old, I am an adult\"}')"
      ],
      "metadata": {
        "colab": {
          "base_uri": "https://localhost:8080/"
        },
        "id": "A_w-0EoTcAns",
        "outputId": "04ca4fd5-558c-4e84-f941-772e1b35422f"
      },
      "execution_count": null,
      "outputs": [
        {
          "output_type": "stream",
          "name": "stdout",
          "text": [
            "Age = 13: Since I am 13 years old, I am a minor\n",
            "Age = 15: Since I am 15 years old, I am a minor\n",
            "Age = 16: Since I am 16 years old, I am a minor\n",
            "Age = 19: Since I am 19 years old, I am an adult\n",
            "Age = 22: Since I am 22 years old, I am an adult\n"
          ]
        }
      ]
    },
    {
      "cell_type": "code",
      "source": [
        "nums = [1,2,3]\n",
        "[n * n for n in nums]"
      ],
      "metadata": {
        "id": "7SotqR1vVr9_",
        "outputId": "c2e3bc53-3455-4825-da04-e1f810a4eaf9",
        "colab": {
          "base_uri": "https://localhost:8080/"
        }
      },
      "execution_count": null,
      "outputs": [
        {
          "output_type": "execute_result",
          "data": {
            "text/plain": [
              "[1, 4, 9]"
            ]
          },
          "metadata": {},
          "execution_count": 25
        }
      ]
    },
    {
      "cell_type": "code",
      "source": [
        "a = [1,2]\n",
        "print (a * 2)"
      ],
      "metadata": {
        "id": "QZR4i2glXOAG",
        "outputId": "cc631dff-c7d9-4a9c-86e3-144847268ccf",
        "colab": {
          "base_uri": "https://localhost:8080/"
        }
      },
      "execution_count": null,
      "outputs": [
        {
          "output_type": "stream",
          "name": "stdout",
          "text": [
            "[1, 2, 1, 2]\n"
          ]
        }
      ]
    },
    {
      "cell_type": "code",
      "source": [
        "strs = ['foo', 'bar', 'baz']\n",
        "[a * 2 for a in strs if 'b' not in a]\n",
        "[a.upper() for a in strs if 'b' not in a]\n",
        "[a.capitalize() for a in strs if 'b' in a]\n",
        "# [<action> for each_elem in list if <condition>]"
      ],
      "metadata": {
        "id": "BQLyH2zhV-44",
        "outputId": "9e9b5c4f-9ac6-469d-d5a9-f501ce1d6419",
        "colab": {
          "base_uri": "https://localhost:8080/"
        }
      },
      "execution_count": null,
      "outputs": [
        {
          "output_type": "execute_result",
          "data": {
            "text/plain": [
              "['Bar', 'Baz']"
            ]
          },
          "metadata": {},
          "execution_count": 49
        }
      ]
    },
    {
      "cell_type": "code",
      "source": [
        "a = ['foo', 'bar', 'baz']\n",
        "itr = iter(a)\n",
        "list(itr)"
      ],
      "metadata": {
        "id": "-KgDUd0bSJ5K",
        "outputId": "a7c06d4a-1026-4613-c8aa-417d7b3e0caa",
        "colab": {
          "base_uri": "https://localhost:8080/"
        }
      },
      "execution_count": null,
      "outputs": [
        {
          "output_type": "execute_result",
          "data": {
            "text/plain": [
              "['foo', 'bar', 'baz']"
            ]
          },
          "metadata": {},
          "execution_count": 23
        }
      ]
    },
    {
      "cell_type": "markdown",
      "source": [],
      "metadata": {
        "id": "kL9-9RWjRqNh"
      }
    },
    {
      "cell_type": "code",
      "source": [
        "myList = [1,2,3,4]\n",
        "for num in myList:\n",
        "  print(f'{\"even \" if num%2 == 0 else \"odd\"}')"
      ],
      "metadata": {
        "id": "BmWi8-TlRfCW",
        "outputId": "41a6d423-6549-44b2-fd10-99a72a2e6ede",
        "colab": {
          "base_uri": "https://localhost:8080/"
        }
      },
      "execution_count": null,
      "outputs": [
        {
          "output_type": "stream",
          "name": "stdout",
          "text": [
            "odd\n",
            "even \n",
            "odd\n",
            "even \n"
          ]
        }
      ]
    }
  ]
}
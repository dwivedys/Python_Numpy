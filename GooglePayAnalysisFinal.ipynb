{
  "nbformat": 4,
  "nbformat_minor": 0,
  "metadata": {
    "colab": {
      "name": "GooglePayAnalysisFinal.ipynb",
      "provenance": [],
      "authorship_tag": "ABX9TyOwyxE5O3Q3Uur8GSik0kGS",
      "include_colab_link": true
    },
    "kernelspec": {
      "name": "python3",
      "display_name": "Python 3"
    },
    "language_info": {
      "name": "python"
    }
  },
  "cells": [
    {
      "cell_type": "markdown",
      "metadata": {
        "id": "view-in-github",
        "colab_type": "text"
      },
      "source": [
        "<a href=\"https://colab.research.google.com/github/dwivedys/Python_Programs/blob/master/GooglePayAnalysisFinal.ipynb\" target=\"_parent\"><img src=\"https://colab.research.google.com/assets/colab-badge.svg\" alt=\"Open In Colab\"/></a>"
      ]
    },
    {
      "cell_type": "code",
      "metadata": {
        "colab": {
          "base_uri": "https://localhost:8080/"
        },
        "id": "EYG3AXF7DuJa",
        "outputId": "0dde8bad-140a-4a4c-a6b9-edf7c9cd281f"
      },
      "source": [
        "# This program prints out the total payments done using Google Pay\n",
        "# I have downloaded my transactions from Google Pay by requesting Google\n",
        "# Google provides an HTML file for the transactions and hence the need for beautifulsoup to scrape the html\n",
        "# This is a very basic attempt to try to figure out money paid to various parties during different time frames\n",
        "# V 1.0\n",
        "# Author: Saurabh Dwivedy\n",
        "\n",
        "# Future improvements are planned\n",
        "\n",
        "import re\n",
        "from bs4 import BeautifulSoup\n",
        "import pandas as pd\n",
        "#import urllib.request as urllib2\n",
        "\n",
        "HtmlFile = open('My Activity.html', 'r', encoding='utf-8')\n",
        "source_code = HtmlFile.read() \n",
        "soup = BeautifulSoup(source_code, 'html.parser')\n",
        "\n",
        "# Key Step\n",
        "# The amounts and dates appear in a specific div tag\n",
        "divTags = soup.findAll('div', {'class':'content-cell mdl-cell mdl-cell--6-col mdl-typography--body-1'})\n",
        "\n",
        "z = []\n",
        "\n",
        "for n in divTags:\n",
        "  z.append([list(n.children)[0], list(n.children)[2]])\n",
        "\n",
        "df = pd.DataFrame(z, columns = [\"Transactions\", \"Date\"])\n",
        "\n",
        "k = []\n",
        "for z in df['Transactions']:\n",
        "  # Pick the financial transactions based on keywords\n",
        "  if z.split(\" \")[0] in ['Received', 'Sent', 'Paid']:\n",
        "    k.append(z)\n",
        "  else:\n",
        "    k.append('NAN')\n",
        "\n",
        "\n",
        "transaction_amts = []\n",
        "for t in k:\n",
        "  if t == 'NAN': \n",
        "    transaction_amts.append(0.0)\n",
        "  else:\n",
        "    # Extract the Amount field, convert to float and remove any formatting commas\n",
        "    transaction_amts.append(float(re.split(r'\\s', t)[1][1:].replace(\",\", \"\")))\n",
        "\n",
        "# Populate the dataframe with Transaction_Amounts\n",
        "df['Trx. Amt.'] = transaction_amts\n",
        "df['Payment Description'] = k\n",
        "\n",
        "Year = []\n",
        "\n",
        "for x in df['Date']:\n",
        "  if x.split(\",\")[0].split(\" \")[2] == '2019':\n",
        "    Year.append('2019')\n",
        "  elif x.split(\",\")[0].split(\" \")[2] == '2020':\n",
        "    Year.append('2020')\n",
        "  elif x.split(\",\")[0].split(\" \")[2] == '2021':\n",
        "    Year.append('2021')\n",
        "  else: \n",
        "    Year.append('0000')\n",
        " \n",
        "df['Year'] = Year\n",
        "\n",
        "Type = []\n",
        "\n",
        "for x in df['Payment Description']:\n",
        "  if x.split(\" \")[0] == 'Paid': \n",
        "    Type.append('Paid')\n",
        "  elif x.split(\" \")[0] == 'Received': \n",
        "    Type.append('Received')\n",
        "  elif x.split(\" \")[0] == 'Sent': \n",
        "    Type.append('Sent')\n",
        "  else:\n",
        "    Type.append('NAN')\n",
        "\n",
        "df['Type'] = Type\n",
        "\n",
        "\n",
        "# Sample Data Analysis - By Year\n",
        "# df[df.Type != 'NAN'].groupby('Year')['Trx. Amt.'].sum()\n",
        "\n",
        "# Sample Data Analysis - By Year, By Transaction Type\n",
        "\n",
        "df[df.Type != 'NAN'].groupby(['Year', 'Type'])['Trx. Amt.'].sum()\n",
        "\n",
        "# Sample Data Analysis - By Transaction Type\n",
        "\n",
        "#df[df.Type != 'NAN'].groupby('Type')['Trx. Amt.'].sum()\n",
        "\n",
        "#print('Yay finished!')"
      ],
      "execution_count": 37,
      "outputs": [
        {
          "output_type": "execute_result",
          "data": {
            "text/plain": [
              "Year  Type    \n",
              "2019  Paid          1390.0\n",
              "      Sent         10206.0\n",
              "2020  Paid        154047.0\n",
              "      Received      5879.0\n",
              "      Sent        613839.0\n",
              "2021  Paid        203517.7\n",
              "      Received        22.0\n",
              "      Sent         50084.0\n",
              "Name: Trx. Amt., dtype: float64"
            ]
          },
          "metadata": {},
          "execution_count": 37
        }
      ]
    },
    {
      "cell_type": "code",
      "metadata": {
        "id": "xOj8iDoaDy_P"
      },
      "source": [
        ""
      ],
      "execution_count": null,
      "outputs": []
    }
  ]
}
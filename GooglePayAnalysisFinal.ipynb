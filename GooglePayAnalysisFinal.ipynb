{
  "nbformat": 4,
  "nbformat_minor": 0,
  "metadata": {
    "colab": {
      "name": "GooglePayAnalysisFinal.ipynb",
      "provenance": [],
      "authorship_tag": "ABX9TyMB1ziwrxyy77xl4MiYibKG",
      "include_colab_link": true
    },
    "kernelspec": {
      "name": "python3",
      "display_name": "Python 3"
    },
    "language_info": {
      "name": "python"
    }
  },
  "cells": [
    {
      "cell_type": "markdown",
      "metadata": {
        "id": "view-in-github",
        "colab_type": "text"
      },
      "source": [
        "<a href=\"https://colab.research.google.com/github/dwivedys/Python_Programs/blob/master/GooglePayAnalysisFinal.ipynb\" target=\"_parent\"><img src=\"https://colab.research.google.com/assets/colab-badge.svg\" alt=\"Open In Colab\"/></a>"
      ]
    },
    {
      "cell_type": "code",
      "metadata": {
        "colab": {
          "base_uri": "https://localhost:8080/"
        },
        "id": "EYG3AXF7DuJa",
        "outputId": "3a52cc82-a9a1-4d79-aedf-dffdb784d8f3"
      },
      "source": [
        "import re\n",
        "from bs4 import BeautifulSoup\n",
        "import pandas as pd\n",
        "#import urllib.request as urllib2\n",
        "\n",
        "HtmlFile = open('My Activity.html', 'r', encoding='utf-8')\n",
        "source_code = HtmlFile.read() \n",
        "soup = BeautifulSoup(source_code, 'html.parser')\n",
        "\n",
        "# Key Step\n",
        "divTags = soup.findAll('div', {'class':'content-cell mdl-cell mdl-cell--6-col mdl-typography--body-1'})\n",
        "\n",
        "#print(len(divTags))\n",
        "#print(divTags)\n",
        "z = []\n",
        "\n",
        "for n in divTags:\n",
        "  #print(n.next_element)\n",
        "  z.append([list(n.children)[0], list(n.children)[2]])\n",
        "  #print(list(n.children)[2])\n",
        "  #print(list(zip(list(n.children)[0], list(n.children)[2])))\n",
        "#print(z)\n",
        "df = pd.DataFrame(z, columns = [\"Transactions\", \"Date\"])\n",
        "k = []\n",
        "for z in df['Transactions']:\n",
        "  if z.split(\" \")[0] == 'Received' or z.split(\" \")[0] == 'Sent' or z.split(\" \")[0] == 'Paid':\n",
        "    k.append(z)\n",
        "  else:\n",
        "    k.append('NAN')\n",
        "\n",
        "\n",
        "amt = []\n",
        "for t in k:\n",
        "  if t == 'NAN': \n",
        "    amt.append(0.0)\n",
        "  #or t.split(\" \")[0] == 'Received' or t.split(\" \")[0] == 'Sent' or t.split(\" \")[0] == 'Paid':\n",
        "  else:\n",
        "    amt.append(float(re.split(r'\\s', t)[1][1:].replace(\",\", \"\")))\n",
        "\n",
        "#print(len(amt), len(df))\n",
        "\n",
        "df['amt'] = amt\n",
        "df['pmt_descr'] = k\n",
        "\n",
        "Year = []\n",
        "\n",
        "for x in df['Date']:\n",
        "  if x.split(\",\")[0].split(\" \")[2] == '2019':\n",
        "    Year.append('2019')\n",
        "  elif x.split(\",\")[0].split(\" \")[2] == '2020':\n",
        "    Year.append('2020')\n",
        "  else: \n",
        "    Year.append('2021')\n",
        "\n",
        "df['Year'] = Year\n",
        "\n",
        "Type = []\n",
        "\n",
        "for x in df['pmt_descr']:\n",
        "  if x.split(\" \")[0] == 'Paid': \n",
        "    Type.append('Paid')\n",
        "  elif x.split(\" \")[0] == 'Received': \n",
        "    Type.append('Received')\n",
        "  elif x.split(\" \")[0] == 'Sent': \n",
        "    Type.append('Sent')\n",
        "  else:\n",
        "    Type.append('NAN')\n",
        "\n",
        "df['Type'] = Type\n",
        "\n",
        "#df['Date']\n",
        "df.groupby(['Year', 'Type'])['amt'].sum()\n",
        "\n",
        "#df\n",
        "# Yay finished!"
      ],
      "execution_count": 2,
      "outputs": [
        {
          "output_type": "execute_result",
          "data": {
            "text/plain": [
              "Year  Type    \n",
              "2019  NAN              0.0\n",
              "      Paid          1390.0\n",
              "      Sent         10206.0\n",
              "2020  NAN              0.0\n",
              "      Paid        154047.0\n",
              "      Received      5879.0\n",
              "      Sent        613839.0\n",
              "2021  NAN              0.0\n",
              "      Paid        203517.7\n",
              "      Received        22.0\n",
              "      Sent         50084.0\n",
              "Name: amt, dtype: float64"
            ]
          },
          "metadata": {},
          "execution_count": 2
        }
      ]
    },
    {
      "cell_type": "code",
      "metadata": {
        "id": "xOj8iDoaDy_P"
      },
      "source": [
        ""
      ],
      "execution_count": null,
      "outputs": []
    }
  ]
}
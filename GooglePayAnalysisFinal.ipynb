{
  "nbformat": 4,
  "nbformat_minor": 0,
  "metadata": {
    "colab": {
      "name": "GooglePayAnalysisFinal.ipynb",
      "provenance": [],
      "authorship_tag": "ABX9TyOoNJaCofYh5MRznoCdBm2x",
      "include_colab_link": true
    },
    "kernelspec": {
      "name": "python3",
      "display_name": "Python 3"
    },
    "language_info": {
      "name": "python"
    }
  },
  "cells": [
    {
      "cell_type": "markdown",
      "metadata": {
        "id": "view-in-github",
        "colab_type": "text"
      },
      "source": [
        "<a href=\"https://colab.research.google.com/github/dwivedys/Python_Programs/blob/master/GooglePayAnalysisFinal.ipynb\" target=\"_parent\"><img src=\"https://colab.research.google.com/assets/colab-badge.svg\" alt=\"Open In Colab\"/></a>"
      ]
    },
    {
      "cell_type": "code",
      "metadata": {
        "colab": {
          "base_uri": "https://localhost:8080/"
        },
        "id": "EYG3AXF7DuJa",
        "outputId": "5e4b5c04-98d1-42cf-acc3-fc408a6cab80"
      },
      "source": [
        "import re\n",
        "from bs4 import BeautifulSoup\n",
        "import pandas as pd\n",
        "#import urllib.request as urllib2\n",
        "\n",
        "HtmlFile = open('My Activity.html', 'r', encoding='utf-8')\n",
        "source_code = HtmlFile.read() \n",
        "soup = BeautifulSoup(source_code, 'html.parser')\n",
        "\n",
        "# Key Step\n",
        "# The amounts and dates appear in a specific div tag\n",
        "divTags = soup.findAll('div', {'class':'content-cell mdl-cell mdl-cell--6-col mdl-typography--body-1'})\n",
        "\n",
        "z = []\n",
        "\n",
        "for n in divTags:\n",
        "  z.append([list(n.children)[0], list(n.children)[2]])\n",
        "\n",
        "df = pd.DataFrame(z, columns = [\"Transactions\", \"Date\"])\n",
        "\n",
        "k = []\n",
        "for z in df['Transactions']:\n",
        "  # Pick the financial transactions based on keywords\n",
        "  if z.split(\" \")[0] == 'Received' or z.split(\" \")[0] == 'Sent' or z.split(\" \")[0] == 'Paid':\n",
        "  #if z.split(\" \")[0] in ['Received', 'Sent', 'Paid']:\n",
        "    k.append(z)\n",
        "  else:\n",
        "    k.append('NAN')\n",
        "\n",
        "\n",
        "transaction_amts = []\n",
        "for t in k:\n",
        "  if t == 'NAN': \n",
        "    transaction_amts.append(0.0)\n",
        "  else:\n",
        "    # Extract the Amount field, convert to float and remove any formatting commas\n",
        "    transaction_amts.append(float(re.split(r'\\s', t)[1][1:].replace(\",\", \"\")))\n",
        "\n",
        "# Populate the dataframe with Transaction_Amounts\n",
        "df['Trx. Amt.'] = transaction_amts\n",
        "df['Payment Description'] = k\n",
        "\n",
        "Year = []\n",
        "\n",
        "for x in df['Date']:\n",
        "  if x.split(\",\")[0].split(\" \")[2] == '2019':\n",
        "    Year.append('2019')\n",
        "  elif x.split(\",\")[0].split(\" \")[2] == '2020':\n",
        "    Year.append('2020')\n",
        "  else: \n",
        "    Year.append('2021')\n",
        "\n",
        "df['Year'] = Year\n",
        "\n",
        "Type = []\n",
        "\n",
        "for x in df['Payment Description']:\n",
        "  if x.split(\" \")[0] == 'Paid': \n",
        "    Type.append('Paid')\n",
        "  elif x.split(\" \")[0] == 'Received': \n",
        "    Type.append('Received')\n",
        "  elif x.split(\" \")[0] == 'Sent': \n",
        "    Type.append('Sent')\n",
        "  else:\n",
        "    Type.append('NAN')\n",
        "\n",
        "df['Type'] = Type\n",
        "\n",
        "# Sample Data Analysis - By Year, By Transaction Type\n",
        "\n",
        "df[df.Type != 'NAN'].groupby(['Year', 'Type'])['Trx. Amt.'].sum()\n",
        "\n",
        "# Sample Data Analysis - By Transaction Type\n",
        "\n",
        "df[df.Type != 'NAN'].groupby('Type')['Trx. Amt.'].sum()\n",
        "\n",
        "print('Yay finished!')"
      ],
      "execution_count": 32,
      "outputs": [
        {
          "output_type": "stream",
          "name": "stdout",
          "text": [
            "Yay finished!\n"
          ]
        }
      ]
    },
    {
      "cell_type": "code",
      "metadata": {
        "id": "xOj8iDoaDy_P"
      },
      "source": [
        ""
      ],
      "execution_count": null,
      "outputs": []
    }
  ]
}
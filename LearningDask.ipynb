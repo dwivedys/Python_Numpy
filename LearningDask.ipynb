{
  "nbformat": 4,
  "nbformat_minor": 0,
  "metadata": {
    "colab": {
      "name": "LearningDask.ipynb",
      "provenance": [],
      "authorship_tag": "ABX9TyNxj3h+3BBgiqGCF6DGhUo+",
      "include_colab_link": true
    },
    "kernelspec": {
      "name": "python3",
      "display_name": "Python 3"
    }
  },
  "cells": [
    {
      "cell_type": "markdown",
      "metadata": {
        "id": "view-in-github",
        "colab_type": "text"
      },
      "source": [
        "<a href=\"https://colab.research.google.com/github/dwivedys/Python_Programs/blob/DaskPrograms/LearningDask.ipynb\" target=\"_parent\"><img src=\"https://colab.research.google.com/assets/colab-badge.svg\" alt=\"Open In Colab\"/></a>"
      ]
    },
    {
      "cell_type": "markdown",
      "metadata": {
        "id": "BuAZptDbNWlF"
      },
      "source": [
        "### Testing np.random.random"
      ]
    },
    {
      "cell_type": "code",
      "metadata": {
        "id": "DBRipXRvPJGw"
      },
      "source": [
        "import time\n",
        "import random\n",
        "\n",
        "def costly_simulation(list_vals):\n",
        "  time.sleep(random.random())\n",
        "  return sum(list_vals)\n",
        "  "
      ],
      "execution_count": null,
      "outputs": []
    },
    {
      "cell_type": "code",
      "metadata": {
        "colab": {
          "base_uri": "https://localhost:8080/"
        },
        "id": "hOGmR4UXPczA",
        "outputId": "545e4ceb-ee8c-4494-d863-7621b71eb921"
      },
      "source": [
        "%time costly_simulation([1,2,3,4])"
      ],
      "execution_count": null,
      "outputs": [
        {
          "output_type": "stream",
          "text": [
            "CPU times: user 607 µs, sys: 0 ns, total: 607 µs\n",
            "Wall time: 150 ms\n"
          ],
          "name": "stdout"
        },
        {
          "output_type": "execute_result",
          "data": {
            "text/plain": [
              "10"
            ]
          },
          "metadata": {
            "tags": []
          },
          "execution_count": 9
        }
      ]
    },
    {
      "cell_type": "code",
      "metadata": {
        "colab": {
          "base_uri": "https://localhost:8080/"
        },
        "id": "ZR6PxehNMsjF",
        "outputId": "859f0cdc-1aaa-411e-8e67-7fecb84d0fe3"
      },
      "source": [
        "\n",
        "import numpy as np\n",
        "np.random.random(size = (500, 4))"
      ],
      "execution_count": null,
      "outputs": [
        {
          "output_type": "execute_result",
          "data": {
            "text/plain": [
              "array([[1.19997092e-01, 6.32921311e-02, 2.70765395e-01, 2.77366433e-01],\n",
              "       [4.70658212e-01, 6.80282533e-01, 3.45451115e-01, 2.59278335e-02],\n",
              "       [1.39827275e-01, 7.03352152e-01, 8.14700451e-01, 7.12310566e-01],\n",
              "       ...,\n",
              "       [6.98272705e-01, 8.42053298e-01, 9.80032440e-01, 2.41460729e-01],\n",
              "       [8.98747231e-01, 2.28543561e-01, 6.81961245e-01, 4.80586471e-01],\n",
              "       [1.67380701e-04, 9.47147015e-01, 6.83067728e-01, 1.08472323e-01]])"
            ]
          },
          "metadata": {
            "tags": []
          },
          "execution_count": 3
        }
      ]
    },
    {
      "cell_type": "markdown",
      "metadata": {
        "id": "iXzmaAngNykt"
      },
      "source": [
        "### Testing parallelization using Dask"
      ]
    },
    {
      "cell_type": "code",
      "metadata": {
        "colab": {
          "base_uri": "https://localhost:8080/",
          "height": 204
        },
        "id": "UuvKG9JwNoFt",
        "outputId": "0aaea7d8-8b2e-49d8-f398-dd384e6fed24"
      },
      "source": [
        "import pandas as pd\n",
        "import numpy as np\n",
        "test_df = pd.DataFrame(np.random.random(size = (500, 4)), columns = ['a', 'b', 'c', 'd'])\n",
        "test_df.head()\n"
      ],
      "execution_count": null,
      "outputs": [
        {
          "output_type": "execute_result",
          "data": {
            "text/html": [
              "<div>\n",
              "<style scoped>\n",
              "    .dataframe tbody tr th:only-of-type {\n",
              "        vertical-align: middle;\n",
              "    }\n",
              "\n",
              "    .dataframe tbody tr th {\n",
              "        vertical-align: top;\n",
              "    }\n",
              "\n",
              "    .dataframe thead th {\n",
              "        text-align: right;\n",
              "    }\n",
              "</style>\n",
              "<table border=\"1\" class=\"dataframe\">\n",
              "  <thead>\n",
              "    <tr style=\"text-align: right;\">\n",
              "      <th></th>\n",
              "      <th>a</th>\n",
              "      <th>b</th>\n",
              "      <th>c</th>\n",
              "      <th>d</th>\n",
              "    </tr>\n",
              "  </thead>\n",
              "  <tbody>\n",
              "    <tr>\n",
              "      <th>0</th>\n",
              "      <td>0.307290</td>\n",
              "      <td>0.056157</td>\n",
              "      <td>0.174268</td>\n",
              "      <td>0.905801</td>\n",
              "    </tr>\n",
              "    <tr>\n",
              "      <th>1</th>\n",
              "      <td>0.857121</td>\n",
              "      <td>0.992923</td>\n",
              "      <td>0.688053</td>\n",
              "      <td>0.770241</td>\n",
              "    </tr>\n",
              "    <tr>\n",
              "      <th>2</th>\n",
              "      <td>0.261898</td>\n",
              "      <td>0.070782</td>\n",
              "      <td>0.332951</td>\n",
              "      <td>0.509367</td>\n",
              "    </tr>\n",
              "    <tr>\n",
              "      <th>3</th>\n",
              "      <td>0.034537</td>\n",
              "      <td>0.289801</td>\n",
              "      <td>0.308697</td>\n",
              "      <td>0.825729</td>\n",
              "    </tr>\n",
              "    <tr>\n",
              "      <th>4</th>\n",
              "      <td>0.223401</td>\n",
              "      <td>0.490557</td>\n",
              "      <td>0.189243</td>\n",
              "      <td>0.585986</td>\n",
              "    </tr>\n",
              "  </tbody>\n",
              "</table>\n",
              "</div>"
            ],
            "text/plain": [
              "          a         b         c         d\n",
              "0  0.307290  0.056157  0.174268  0.905801\n",
              "1  0.857121  0.992923  0.688053  0.770241\n",
              "2  0.261898  0.070782  0.332951  0.509367\n",
              "3  0.034537  0.289801  0.308697  0.825729\n",
              "4  0.223401  0.490557  0.189243  0.585986"
            ]
          },
          "metadata": {
            "tags": []
          },
          "execution_count": 5
        }
      ]
    },
    {
      "cell_type": "code",
      "metadata": {
        "colab": {
          "base_uri": "https://localhost:8080/"
        },
        "id": "wUKh8zAeQ1-0",
        "outputId": "729739d0-3c18-40fc-ee78-7a14e376dbfb"
      },
      "source": [
        "# declare an empty list to hold the contents\n",
        "\n",
        "results = []\n",
        "%time\n",
        "for val in test_df.values[:10]:\n",
        "  sum_val = costly_simulation(val)\n",
        "  results.append(sum_val)\n",
        "results"
      ],
      "execution_count": null,
      "outputs": [
        {
          "output_type": "stream",
          "text": [
            "CPU times: user 3 µs, sys: 0 ns, total: 3 µs\n",
            "Wall time: 6.91 µs\n"
          ],
          "name": "stdout"
        },
        {
          "output_type": "execute_result",
          "data": {
            "text/plain": [
              "[1.4435158658547564,\n",
              " 3.308337078859694,\n",
              " 1.1749982536455008,\n",
              " 1.4587636015587346,\n",
              " 1.489187554372791,\n",
              " 1.1037517826619472,\n",
              " 3.4486478316416886,\n",
              " 2.104908990511978,\n",
              " 2.3719334135949683,\n",
              " 2.595907035848654]"
            ]
          },
          "metadata": {
            "tags": []
          },
          "execution_count": 28
        }
      ]
    },
    {
      "cell_type": "code",
      "metadata": {
        "colab": {
          "base_uri": "https://localhost:8080/"
        },
        "id": "nT3j5FcuSoGD",
        "outputId": "690de9c3-03a9-438f-fed8-46891509ac10"
      },
      "source": [
        "# will return an array of 5 rows and 4 columns\n",
        "test_df.values[:5]"
      ],
      "execution_count": null,
      "outputs": [
        {
          "output_type": "execute_result",
          "data": {
            "text/plain": [
              "array([[0.30729038, 0.05615702, 0.17426775, 0.90580071],\n",
              "       [0.85712088, 0.99292265, 0.68805274, 0.77024081],\n",
              "       [0.26189831, 0.07078178, 0.33295113, 0.50936705],\n",
              "       [0.03453713, 0.28980064, 0.30869686, 0.82572896],\n",
              "       [0.2234013 , 0.49055678, 0.18924306, 0.58598642]])"
            ]
          },
          "metadata": {
            "tags": []
          },
          "execution_count": 29
        }
      ]
    },
    {
      "cell_type": "code",
      "metadata": {
        "colab": {
          "base_uri": "https://localhost:8080/",
          "height": 359
        },
        "id": "tNFWyo_MP1R8",
        "outputId": "529f4e91-1b20-432d-ed8b-c72b6749458a"
      },
      "source": [
        "#this syntax returns 10 rows and only two columns\n",
        "\n",
        "test_df[['a', 'b']][:10]"
      ],
      "execution_count": null,
      "outputs": [
        {
          "output_type": "execute_result",
          "data": {
            "text/html": [
              "<div>\n",
              "<style scoped>\n",
              "    .dataframe tbody tr th:only-of-type {\n",
              "        vertical-align: middle;\n",
              "    }\n",
              "\n",
              "    .dataframe tbody tr th {\n",
              "        vertical-align: top;\n",
              "    }\n",
              "\n",
              "    .dataframe thead th {\n",
              "        text-align: right;\n",
              "    }\n",
              "</style>\n",
              "<table border=\"1\" class=\"dataframe\">\n",
              "  <thead>\n",
              "    <tr style=\"text-align: right;\">\n",
              "      <th></th>\n",
              "      <th>a</th>\n",
              "      <th>b</th>\n",
              "    </tr>\n",
              "  </thead>\n",
              "  <tbody>\n",
              "    <tr>\n",
              "      <th>0</th>\n",
              "      <td>0.307290</td>\n",
              "      <td>0.056157</td>\n",
              "    </tr>\n",
              "    <tr>\n",
              "      <th>1</th>\n",
              "      <td>0.857121</td>\n",
              "      <td>0.992923</td>\n",
              "    </tr>\n",
              "    <tr>\n",
              "      <th>2</th>\n",
              "      <td>0.261898</td>\n",
              "      <td>0.070782</td>\n",
              "    </tr>\n",
              "    <tr>\n",
              "      <th>3</th>\n",
              "      <td>0.034537</td>\n",
              "      <td>0.289801</td>\n",
              "    </tr>\n",
              "    <tr>\n",
              "      <th>4</th>\n",
              "      <td>0.223401</td>\n",
              "      <td>0.490557</td>\n",
              "    </tr>\n",
              "    <tr>\n",
              "      <th>5</th>\n",
              "      <td>0.068971</td>\n",
              "      <td>0.219036</td>\n",
              "    </tr>\n",
              "    <tr>\n",
              "      <th>6</th>\n",
              "      <td>0.726549</td>\n",
              "      <td>0.961268</td>\n",
              "    </tr>\n",
              "    <tr>\n",
              "      <th>7</th>\n",
              "      <td>0.263269</td>\n",
              "      <td>0.969749</td>\n",
              "    </tr>\n",
              "    <tr>\n",
              "      <th>8</th>\n",
              "      <td>0.587757</td>\n",
              "      <td>0.824115</td>\n",
              "    </tr>\n",
              "    <tr>\n",
              "      <th>9</th>\n",
              "      <td>0.954952</td>\n",
              "      <td>0.660085</td>\n",
              "    </tr>\n",
              "  </tbody>\n",
              "</table>\n",
              "</div>"
            ],
            "text/plain": [
              "          a         b\n",
              "0  0.307290  0.056157\n",
              "1  0.857121  0.992923\n",
              "2  0.261898  0.070782\n",
              "3  0.034537  0.289801\n",
              "4  0.223401  0.490557\n",
              "5  0.068971  0.219036\n",
              "6  0.726549  0.961268\n",
              "7  0.263269  0.969749\n",
              "8  0.587757  0.824115\n",
              "9  0.954952  0.660085"
            ]
          },
          "metadata": {
            "tags": []
          },
          "execution_count": 19
        }
      ]
    },
    {
      "cell_type": "code",
      "metadata": {
        "colab": {
          "base_uri": "https://localhost:8080/",
          "height": 359
        },
        "id": "DANt0RFSQBKM",
        "outputId": "28426825-0995-4aa7-9fa0-ed5db35b5dc7"
      },
      "source": [
        "#this syntax will work too\n",
        "test_df[:10][['a', 'b']]"
      ],
      "execution_count": null,
      "outputs": [
        {
          "output_type": "execute_result",
          "data": {
            "text/html": [
              "<div>\n",
              "<style scoped>\n",
              "    .dataframe tbody tr th:only-of-type {\n",
              "        vertical-align: middle;\n",
              "    }\n",
              "\n",
              "    .dataframe tbody tr th {\n",
              "        vertical-align: top;\n",
              "    }\n",
              "\n",
              "    .dataframe thead th {\n",
              "        text-align: right;\n",
              "    }\n",
              "</style>\n",
              "<table border=\"1\" class=\"dataframe\">\n",
              "  <thead>\n",
              "    <tr style=\"text-align: right;\">\n",
              "      <th></th>\n",
              "      <th>a</th>\n",
              "      <th>b</th>\n",
              "    </tr>\n",
              "  </thead>\n",
              "  <tbody>\n",
              "    <tr>\n",
              "      <th>0</th>\n",
              "      <td>0.307290</td>\n",
              "      <td>0.056157</td>\n",
              "    </tr>\n",
              "    <tr>\n",
              "      <th>1</th>\n",
              "      <td>0.857121</td>\n",
              "      <td>0.992923</td>\n",
              "    </tr>\n",
              "    <tr>\n",
              "      <th>2</th>\n",
              "      <td>0.261898</td>\n",
              "      <td>0.070782</td>\n",
              "    </tr>\n",
              "    <tr>\n",
              "      <th>3</th>\n",
              "      <td>0.034537</td>\n",
              "      <td>0.289801</td>\n",
              "    </tr>\n",
              "    <tr>\n",
              "      <th>4</th>\n",
              "      <td>0.223401</td>\n",
              "      <td>0.490557</td>\n",
              "    </tr>\n",
              "    <tr>\n",
              "      <th>5</th>\n",
              "      <td>0.068971</td>\n",
              "      <td>0.219036</td>\n",
              "    </tr>\n",
              "    <tr>\n",
              "      <th>6</th>\n",
              "      <td>0.726549</td>\n",
              "      <td>0.961268</td>\n",
              "    </tr>\n",
              "    <tr>\n",
              "      <th>7</th>\n",
              "      <td>0.263269</td>\n",
              "      <td>0.969749</td>\n",
              "    </tr>\n",
              "    <tr>\n",
              "      <th>8</th>\n",
              "      <td>0.587757</td>\n",
              "      <td>0.824115</td>\n",
              "    </tr>\n",
              "    <tr>\n",
              "      <th>9</th>\n",
              "      <td>0.954952</td>\n",
              "      <td>0.660085</td>\n",
              "    </tr>\n",
              "  </tbody>\n",
              "</table>\n",
              "</div>"
            ],
            "text/plain": [
              "          a         b\n",
              "0  0.307290  0.056157\n",
              "1  0.857121  0.992923\n",
              "2  0.261898  0.070782\n",
              "3  0.034537  0.289801\n",
              "4  0.223401  0.490557\n",
              "5  0.068971  0.219036\n",
              "6  0.726549  0.961268\n",
              "7  0.263269  0.969749\n",
              "8  0.587757  0.824115\n",
              "9  0.954952  0.660085"
            ]
          },
          "metadata": {
            "tags": []
          },
          "execution_count": 20
        }
      ]
    },
    {
      "cell_type": "code",
      "metadata": {
        "id": "KGn3rvR5Qp5T"
      },
      "source": [
        ""
      ],
      "execution_count": null,
      "outputs": []
    }
  ]
}
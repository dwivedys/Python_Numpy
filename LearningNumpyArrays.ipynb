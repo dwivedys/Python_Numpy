{
  "nbformat": 4,
  "nbformat_minor": 0,
  "metadata": {
    "colab": {
      "name": "LearningNumpyArrays.ipynb",
      "provenance": [],
      "authorship_tag": "ABX9TyPS4T1fiTaNSbu5iOOup8ch",
      "include_colab_link": true
    },
    "kernelspec": {
      "name": "python3",
      "display_name": "Python 3"
    }
  },
  "cells": [
    {
      "cell_type": "markdown",
      "metadata": {
        "id": "view-in-github",
        "colab_type": "text"
      },
      "source": [
        "<a href=\"https://colab.research.google.com/github/dwivedys/Python_Numpy/blob/Numpy_Programs/LearningNumpyArrays.ipynb\" target=\"_parent\"><img src=\"https://colab.research.google.com/assets/colab-badge.svg\" alt=\"Open In Colab\"/></a>"
      ]
    },
    {
      "cell_type": "code",
      "metadata": {
        "id": "TqM0P--Y8JrZ"
      },
      "source": [
        "import numpy as np\n",
        "CURVE_CENTER = 80\n",
        "grades = np.array([72, 35, 64, 88, 51, 90, 74, 12])\n",
        "def curve(grades):\n",
        "  average = grades.mean()\n",
        "  change = CURVE_CENTER - average\n",
        "  new_grades = grades + change\n",
        "  return np.clip(new_grades, grades, 100)"
      ],
      "execution_count": 1,
      "outputs": []
    },
    {
      "cell_type": "code",
      "metadata": {
        "colab": {
          "base_uri": "https://localhost:8080/"
        },
        "id": "-RDyZ0nc805w",
        "outputId": "e5c215b1-1e74-42bd-bd2f-0b1f6f4b89d1"
      },
      "source": [
        "curve(grades)"
      ],
      "execution_count": 2,
      "outputs": [
        {
          "output_type": "execute_result",
          "data": {
            "text/plain": [
              "array([ 91.25,  54.25,  83.25, 100.  ,  70.25, 100.  ,  93.25,  31.25])"
            ]
          },
          "metadata": {
            "tags": []
          },
          "execution_count": 2
        }
      ]
    },
    {
      "cell_type": "markdown",
      "metadata": {
        "id": "oTk1txNBJNIn"
      },
      "source": [
        ""
      ]
    },
    {
      "cell_type": "markdown",
      "metadata": {
        "id": "XTwqkQGFQNhr"
      },
      "source": [
        "# **Below - we create an array which is a big list which comprises 4 separate arrays of 4 elements each**"
      ]
    },
    {
      "cell_type": "code",
      "metadata": {
        "id": "QFbw0vll89i6"
      },
      "source": [
        "table16 = np.array([[5,3,7,1], [2, 6, 7 ,9], [1, 1, 1, 1], [4, 3, 2, 0]])"
      ],
      "execution_count": 33,
      "outputs": []
    },
    {
      "cell_type": "markdown",
      "metadata": {
        "id": "UR-ryxHTSboR"
      },
      "source": [
        "# **Let us print the table16 to see how it looks**"
      ]
    },
    {
      "cell_type": "code",
      "metadata": {
        "colab": {
          "base_uri": "https://localhost:8080/"
        },
        "id": "hjcuYuZ5JIvw",
        "outputId": "840cc5fc-7ffe-4700-b29e-2a2ef23ee677"
      },
      "source": [
        "table16\n"
      ],
      "execution_count": 34,
      "outputs": [
        {
          "output_type": "execute_result",
          "data": {
            "text/plain": [
              "array([[5, 3, 7, 1],\n",
              "       [2, 6, 7, 9],\n",
              "       [1, 1, 1, 1],\n",
              "       [4, 3, 2, 0]])"
            ]
          },
          "metadata": {
            "tags": []
          },
          "execution_count": 34
        }
      ]
    },
    {
      "cell_type": "markdown",
      "metadata": {
        "id": "rGLjOTm1SmEt"
      },
      "source": [
        "# **Max() function will return the max from the overall array**"
      ]
    },
    {
      "cell_type": "code",
      "metadata": {
        "colab": {
          "base_uri": "https://localhost:8080/"
        },
        "id": "TQx4PkXXJQD8",
        "outputId": "2a78d97e-f604-456e-bab2-7c6258bf4471"
      },
      "source": [
        "table16.max()"
      ],
      "execution_count": 35,
      "outputs": [
        {
          "output_type": "execute_result",
          "data": {
            "text/plain": [
              "9"
            ]
          },
          "metadata": {
            "tags": []
          },
          "execution_count": 35
        }
      ]
    },
    {
      "cell_type": "markdown",
      "metadata": {
        "id": "X2_TdOBcSspy"
      },
      "source": [
        "# **Similar calculations can be performed to return max and min across axes; axis = 0 means column and axis = 1 means rows**"
      ]
    },
    {
      "cell_type": "code",
      "metadata": {
        "colab": {
          "base_uri": "https://localhost:8080/"
        },
        "id": "qtZbTRnzJTzo",
        "outputId": "dbb91905-3bd0-4aed-bd07-d7f87a4bd908"
      },
      "source": [
        "table16.max(axis = 0), table16.max(axis = 1), table16.min(axis = 0), table16.min(axis = 1)"
      ],
      "execution_count": 36,
      "outputs": [
        {
          "output_type": "execute_result",
          "data": {
            "text/plain": [
              "(array([5, 6, 7, 9]),\n",
              " array([7, 9, 1, 4]),\n",
              " array([1, 1, 1, 0]),\n",
              " array([1, 2, 1, 0]))"
            ]
          },
          "metadata": {
            "tags": []
          },
          "execution_count": 36
        }
      ]
    },
    {
      "cell_type": "markdown",
      "metadata": {
        "id": "ZFzmwDdNRB7q"
      },
      "source": [
        "**Now we will reshape the table16 in such a way that it has 2 big lists, each list having 4 smaller arrays of 2 elements each**"
      ]
    },
    {
      "cell_type": "code",
      "metadata": {
        "id": "foM_1hXmJjI9"
      },
      "source": [
        "reshaped_table16 = table16.reshape(2,4,2)"
      ],
      "execution_count": 39,
      "outputs": []
    },
    {
      "cell_type": "markdown",
      "metadata": {
        "id": "sPVoE5fDTCx2"
      },
      "source": [
        "**As can be seen - we now have a RESHAPED array which has 2 major arrays - (first argument), each of these two major arrays have 4 arrays - (second argument) of 2 elements each - (third and final argument) - reshape(2,4,2)**"
      ]
    },
    {
      "cell_type": "code",
      "metadata": {
        "colab": {
          "base_uri": "https://localhost:8080/"
        },
        "id": "m3HX6IAYLRWR",
        "outputId": "2026e0c1-03c0-43a6-c80f-db8ea8d7f6fa"
      },
      "source": [
        "reshaped_table16"
      ],
      "execution_count": 41,
      "outputs": [
        {
          "output_type": "execute_result",
          "data": {
            "text/plain": [
              "array([[[5, 3],\n",
              "        [7, 1],\n",
              "        [2, 6],\n",
              "        [7, 9]],\n",
              "\n",
              "       [[1, 1],\n",
              "        [1, 1],\n",
              "        [4, 3],\n",
              "        [2, 0]]])"
            ]
          },
          "metadata": {
            "tags": []
          },
          "execution_count": 41
        }
      ]
    },
    {
      "cell_type": "code",
      "metadata": {
        "colab": {
          "base_uri": "https://localhost:8080/"
        },
        "id": "qrclFicQRZHx",
        "outputId": "077f3a23-f3c3-4a2e-8b9f-db158884c222"
      },
      "source": [
        "reshaped_table16[0,1]"
      ],
      "execution_count": 50,
      "outputs": [
        {
          "output_type": "execute_result",
          "data": {
            "text/plain": [
              "array([7, 1])"
            ]
          },
          "metadata": {
            "tags": []
          },
          "execution_count": 50
        }
      ]
    },
    {
      "cell_type": "code",
      "metadata": {
        "colab": {
          "base_uri": "https://localhost:8080/"
        },
        "id": "hVCiKLWBNOJg",
        "outputId": "2c24778f-4cc8-43b1-f0d1-1a82d1e735a0"
      },
      "source": [
        "flattened_reshaped_table16 = reshaped_table16.flatten()\n",
        "flattened_reshaped_table16"
      ],
      "execution_count": 40,
      "outputs": [
        {
          "output_type": "execute_result",
          "data": {
            "text/plain": [
              "array([5, 3, 7, 1, 2, 6, 7, 9, 1, 1, 1, 1, 4, 3, 2, 0])"
            ]
          },
          "metadata": {
            "tags": []
          },
          "execution_count": 40
        }
      ]
    },
    {
      "cell_type": "code",
      "metadata": {
        "colab": {
          "base_uri": "https://localhost:8080/"
        },
        "id": "TyxKV3CkLfLn",
        "outputId": "c4e75108-dd41-484b-ed1f-ed61bee5c05e"
      },
      "source": [
        "reshaped_table16[:,:,0]"
      ],
      "execution_count": 42,
      "outputs": [
        {
          "output_type": "execute_result",
          "data": {
            "text/plain": [
              "array([[5, 7, 2, 7],\n",
              "       [1, 1, 4, 2]])"
            ]
          },
          "metadata": {
            "tags": []
          },
          "execution_count": 42
        }
      ]
    },
    {
      "cell_type": "code",
      "metadata": {
        "colab": {
          "base_uri": "https://localhost:8080/"
        },
        "id": "kAXkWhMCLvs0",
        "outputId": "ff3c51b2-6f76-4758-945e-f41c8ba20605"
      },
      "source": [
        "reshaped_table16[1,:,0]"
      ],
      "execution_count": 43,
      "outputs": [
        {
          "output_type": "execute_result",
          "data": {
            "text/plain": [
              "array([1, 1, 4, 2])"
            ]
          },
          "metadata": {
            "tags": []
          },
          "execution_count": 43
        }
      ]
    },
    {
      "cell_type": "code",
      "metadata": {
        "colab": {
          "base_uri": "https://localhost:8080/"
        },
        "id": "XMGdE9coMd1N",
        "outputId": "59208d86-9bcf-4e66-e9df-8c9a76e99ae3"
      },
      "source": [
        "reshaped_table16[0,2,:]"
      ],
      "execution_count": 44,
      "outputs": [
        {
          "output_type": "execute_result",
          "data": {
            "text/plain": [
              "array([2, 6])"
            ]
          },
          "metadata": {
            "tags": []
          },
          "execution_count": 44
        }
      ]
    },
    {
      "cell_type": "code",
      "metadata": {
        "colab": {
          "base_uri": "https://localhost:8080/"
        },
        "id": "Bn4e20_IMz0m",
        "outputId": "4c079a86-080b-40ac-df5f-dc7eb92ea795"
      },
      "source": [
        "reshaped_table16[0,1,:]"
      ],
      "execution_count": 18,
      "outputs": [
        {
          "output_type": "execute_result",
          "data": {
            "text/plain": [
              "array([7, 1])"
            ]
          },
          "metadata": {
            "tags": []
          },
          "execution_count": 18
        }
      ]
    },
    {
      "cell_type": "code",
      "metadata": {
        "colab": {
          "base_uri": "https://localhost:8080/"
        },
        "id": "vz650FGWNAHz",
        "outputId": "d599376d-8785-4e5d-cd7a-fd08c2205393"
      },
      "source": [
        "reshaped_table16[0,1,1]"
      ],
      "execution_count": 45,
      "outputs": [
        {
          "output_type": "execute_result",
          "data": {
            "text/plain": [
              "1"
            ]
          },
          "metadata": {
            "tags": []
          },
          "execution_count": 45
        }
      ]
    },
    {
      "cell_type": "code",
      "metadata": {
        "id": "2nCqVfGhNLj1"
      },
      "source": [
        "table12 = np.array([[5,3,7,1], [2, 6, 7 ,9], [1, 1, 1, 1]])"
      ],
      "execution_count": 46,
      "outputs": []
    },
    {
      "cell_type": "code",
      "metadata": {
        "colab": {
          "base_uri": "https://localhost:8080/"
        },
        "id": "6XqGqKbAO-Ij",
        "outputId": "863920c5-6b41-4c1d-dec3-3054e755d6f6"
      },
      "source": [
        "table12.reshape(3,2,2) #3 overall arrays, with 2 arrays each having 2 elements each "
      ],
      "execution_count": 51,
      "outputs": [
        {
          "output_type": "execute_result",
          "data": {
            "text/plain": [
              "array([[[5, 3],\n",
              "        [7, 1]],\n",
              "\n",
              "       [[2, 6],\n",
              "        [7, 9]],\n",
              "\n",
              "       [[1, 1],\n",
              "        [1, 1]]])"
            ]
          },
          "metadata": {
            "tags": []
          },
          "execution_count": 51
        }
      ]
    },
    {
      "cell_type": "code",
      "metadata": {
        "colab": {
          "base_uri": "https://localhost:8080/"
        },
        "id": "kC4SjbejPBw4",
        "outputId": "8fc6146f-812b-492d-b15c-20638a9b5e86"
      },
      "source": [
        "table12.reshape(2,3,2)"
      ],
      "execution_count": 47,
      "outputs": [
        {
          "output_type": "execute_result",
          "data": {
            "text/plain": [
              "array([[[5, 3],\n",
              "        [7, 1],\n",
              "        [2, 6]],\n",
              "\n",
              "       [[7, 9],\n",
              "        [1, 1],\n",
              "        [1, 1]]])"
            ]
          },
          "metadata": {
            "tags": []
          },
          "execution_count": 47
        }
      ]
    },
    {
      "cell_type": "code",
      "metadata": {
        "id": "h8j5xxxKPVt6"
      },
      "source": [
        ""
      ],
      "execution_count": null,
      "outputs": []
    }
  ]
}
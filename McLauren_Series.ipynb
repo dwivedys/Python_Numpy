{
  "nbformat": 4,
  "nbformat_minor": 0,
  "metadata": {
    "colab": {
      "name": "McLauren_Series.ipynb",
      "provenance": [],
      "authorship_tag": "ABX9TyOvR4y77dyOSlvgeKSu3AMZ",
      "include_colab_link": true
    },
    "kernelspec": {
      "name": "python3",
      "display_name": "Python 3"
    }
  },
  "cells": [
    {
      "cell_type": "markdown",
      "metadata": {
        "id": "view-in-github",
        "colab_type": "text"
      },
      "source": [
        "<a href=\"https://colab.research.google.com/github/dwivedys/Python_Programs/blob/Numpy_Programs/McLauren_Series.ipynb\" target=\"_parent\"><img src=\"https://colab.research.google.com/assets/colab-badge.svg\" alt=\"Open In Colab\"/></a>"
      ]
    },
    {
      "cell_type": "code",
      "metadata": {
        "id": "lrHvqZ6jE7bA"
      },
      "source": [
        "from math import e, factorial\n",
        "import numpy as np\n",
        "\n",
        "fac = np.vectorize(factorial)\n",
        "\n",
        "def e_x(x, terms=10):\n",
        "    \"\"\"Approximates e^x using a given number of terms of\n",
        "    the Maclaurin series\n",
        "    \"\"\"\n",
        "    n = np.arange(terms)\n",
        "    return np.sum((x ** n) / fac(n))\n",
        "\n",
        "if __name__ == \"__main__\":\n",
        "    print(\"Actual:\", e ** 3)  # Using e from the standard library\n",
        "\n",
        "    print(\"N (terms)\\tMaclaurin\\tError\")\n",
        "\n",
        "    for n in range(1, 14):\n",
        "        maclaurin = e_x(3, terms=n)\n",
        "        print(f\"{n}\\t\\t{maclaurin:.03f}\\t\\t{e**3 - maclaurin:.03f}\")"
      ],
      "execution_count": null,
      "outputs": []
    }
  ]
}
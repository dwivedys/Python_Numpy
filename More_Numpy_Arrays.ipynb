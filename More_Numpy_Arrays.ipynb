{
  "nbformat": 4,
  "nbformat_minor": 0,
  "metadata": {
    "colab": {
      "name": "More_Numpy_Arrays.ipynb",
      "provenance": [],
      "authorship_tag": "ABX9TyPa0VcFBz2wRbyNP59PMIND",
      "include_colab_link": true
    },
    "kernelspec": {
      "name": "python3",
      "display_name": "Python 3"
    }
  },
  "cells": [
    {
      "cell_type": "markdown",
      "metadata": {
        "id": "view-in-github",
        "colab_type": "text"
      },
      "source": [
        "<a href=\"https://colab.research.google.com/github/dwivedys/Python_Programs/blob/Numpy_Programs/More_Numpy_Arrays.ipynb\" target=\"_parent\"><img src=\"https://colab.research.google.com/assets/colab-badge.svg\" alt=\"Open In Colab\"/></a>"
      ]
    },
    {
      "cell_type": "code",
      "metadata": {
        "colab": {
          "base_uri": "https://localhost:8080/"
        },
        "id": "pWlz2Ot-1Gf3",
        "outputId": "4d43346c-3ffe-42ac-e51f-e16934a7580a"
      },
      "source": [
        "np.array([1,2,3,4]).reshape(2,2)"
      ],
      "execution_count": 27,
      "outputs": [
        {
          "output_type": "execute_result",
          "data": {
            "text/plain": [
              "array([[1, 2],\n",
              "       [3, 4]])"
            ]
          },
          "metadata": {
            "tags": []
          },
          "execution_count": 27
        }
      ]
    },
    {
      "cell_type": "code",
      "metadata": {
        "colab": {
          "base_uri": "https://localhost:8080/"
        },
        "id": "Xz-bRoNdzUDm",
        "outputId": "87dcca34-11f4-49d5-8d14-0ce688869aac"
      },
      "source": [
        "x = np.arange(10).reshape(5,2)\n",
        "x"
      ],
      "execution_count": 88,
      "outputs": [
        {
          "output_type": "execute_result",
          "data": {
            "text/plain": [
              "array([[0, 1],\n",
              "       [2, 3],\n",
              "       [4, 5],\n",
              "       [6, 7],\n",
              "       [8, 9]])"
            ]
          },
          "metadata": {
            "tags": []
          },
          "execution_count": 88
        }
      ]
    },
    {
      "cell_type": "code",
      "metadata": {
        "colab": {
          "base_uri": "https://localhost:8080/"
        },
        "id": "RlrXol3bwbGn",
        "outputId": "200aa22a-4175-456a-fdc8-bc495039745c"
      },
      "source": [
        "x.mean(axis=1)"
      ],
      "execution_count": 89,
      "outputs": [
        {
          "output_type": "execute_result",
          "data": {
            "text/plain": [
              "array([0.5, 2.5, 4.5, 6.5, 8.5])"
            ]
          },
          "metadata": {
            "tags": []
          },
          "execution_count": 89
        }
      ]
    },
    {
      "cell_type": "code",
      "metadata": {
        "id": "LQU7-bx5F8NI",
        "outputId": "13da8545-940c-4a76-d407-89bfb027d8ba",
        "colab": {
          "base_uri": "https://localhost:8080/"
        }
      },
      "source": [
        "x.mean(axis = 0)"
      ],
      "execution_count": 90,
      "outputs": [
        {
          "output_type": "execute_result",
          "data": {
            "text/plain": [
              "array([4., 5.])"
            ]
          },
          "metadata": {
            "tags": []
          },
          "execution_count": 90
        }
      ]
    },
    {
      "cell_type": "code",
      "metadata": {
        "colab": {
          "base_uri": "https://localhost:8080/"
        },
        "id": "fbwPxeXIv3md",
        "outputId": "e53023b8-cd65-4beb-bd9a-9562b2ac4c3b"
      },
      "source": [
        "x = [1,2,3,4]\n",
        "y = [5,6,7,8]\n",
        "z = [9,10,11,12]\n",
        "a = [13, 14, 15, 16]\n",
        "b = [17,18,19,20]\n",
        "\n",
        "arr = np.array([x,y,z,a,b])\n",
        "arr"
      ],
      "execution_count": 60,
      "outputs": [
        {
          "output_type": "execute_result",
          "data": {
            "text/plain": [
              "array([[ 1,  2,  3,  4],\n",
              "       [ 5,  6,  7,  8],\n",
              "       [ 9, 10, 11, 12],\n",
              "       [13, 14, 15, 16],\n",
              "       [17, 18, 19, 20]])"
            ]
          },
          "metadata": {
            "tags": []
          },
          "execution_count": 60
        }
      ]
    },
    {
      "cell_type": "code",
      "metadata": {
        "colab": {
          "base_uri": "https://localhost:8080/"
        },
        "id": "8gIQX5cY8o4I",
        "outputId": "96c70b1c-1aa9-44ed-a6e4-f6d96628ce59"
      },
      "source": [
        "arr.shape"
      ],
      "execution_count": 52,
      "outputs": [
        {
          "output_type": "execute_result",
          "data": {
            "text/plain": [
              "(5, 4)"
            ]
          },
          "metadata": {
            "tags": []
          },
          "execution_count": 52
        }
      ]
    },
    {
      "cell_type": "code",
      "metadata": {
        "colab": {
          "base_uri": "https://localhost:8080/"
        },
        "id": "P_G-oWuy8vd-",
        "outputId": "74bd8a9e-ca00-48fa-b6f1-37b9edd3ce58"
      },
      "source": [
        "arr_reshaped = arr.reshape(2,5,2)\n",
        "arr_reshaped"
      ],
      "execution_count": 53,
      "outputs": [
        {
          "output_type": "execute_result",
          "data": {
            "text/plain": [
              "array([[[ 1,  2],\n",
              "        [ 3,  4],\n",
              "        [ 5,  6],\n",
              "        [ 7,  8],\n",
              "        [ 9, 10]],\n",
              "\n",
              "       [[11, 12],\n",
              "        [13, 14],\n",
              "        [15, 16],\n",
              "        [17, 18],\n",
              "        [19, 20]]])"
            ]
          },
          "metadata": {
            "tags": []
          },
          "execution_count": 53
        }
      ]
    },
    {
      "cell_type": "code",
      "metadata": {
        "colab": {
          "base_uri": "https://localhost:8080/"
        },
        "id": "29F0_8igB5YB",
        "outputId": "80704bb3-bf62-447e-c545-b7d3ae8b66af"
      },
      "source": [
        "arr_reshaped.ndim"
      ],
      "execution_count": 78,
      "outputs": [
        {
          "output_type": "execute_result",
          "data": {
            "text/plain": [
              "3"
            ]
          },
          "metadata": {
            "tags": []
          },
          "execution_count": 78
        }
      ]
    },
    {
      "cell_type": "code",
      "metadata": {
        "colab": {
          "base_uri": "https://localhost:8080/"
        },
        "id": "kuvD1Gcl8_Cs",
        "outputId": "41caabbc-cf65-414b-8f99-0d7b39b71457"
      },
      "source": [
        "arr_reshaped.shape"
      ],
      "execution_count": 54,
      "outputs": [
        {
          "output_type": "execute_result",
          "data": {
            "text/plain": [
              "(2, 5, 2)"
            ]
          },
          "metadata": {
            "tags": []
          },
          "execution_count": 54
        }
      ]
    },
    {
      "cell_type": "markdown",
      "metadata": {
        "id": "6XE85mM-EX8N"
      },
      "source": [
        "Give me the 1st sub-array from both sub-arrays"
      ]
    },
    {
      "cell_type": "code",
      "metadata": {
        "colab": {
          "base_uri": "https://localhost:8080/"
        },
        "id": "nfJf2Dj7Emmt",
        "outputId": "2e63e1d4-13c7-43bf-f33a-756bcb65f37f"
      },
      "source": [
        "arr_reshaped[:,0,:]"
      ],
      "execution_count": 87,
      "outputs": [
        {
          "output_type": "execute_result",
          "data": {
            "text/plain": [
              "array([[ 1,  2],\n",
              "       [11, 12]])"
            ]
          },
          "metadata": {
            "tags": []
          },
          "execution_count": 87
        }
      ]
    },
    {
      "cell_type": "markdown",
      "metadata": {
        "id": "yOKsSvSAC4jg"
      },
      "source": [
        "Give me the 2nd sub-array from both sub-arrays"
      ]
    },
    {
      "cell_type": "code",
      "metadata": {
        "colab": {
          "base_uri": "https://localhost:8080/"
        },
        "id": "Q4gcxH42CFKA",
        "outputId": "955466f4-7309-4ace-894b-e3e7bdbc6d12"
      },
      "source": [
        "arr_reshaped[:,1,:]"
      ],
      "execution_count": 83,
      "outputs": [
        {
          "output_type": "execute_result",
          "data": {
            "text/plain": [
              "array([[ 3,  4],\n",
              "       [13, 14]])"
            ]
          },
          "metadata": {
            "tags": []
          },
          "execution_count": 83
        }
      ]
    },
    {
      "cell_type": "markdown",
      "metadata": {
        "id": "RWMxh49gDIp8"
      },
      "source": [
        "Give me all the sub-arrays in the first sub-array"
      ]
    },
    {
      "cell_type": "code",
      "metadata": {
        "colab": {
          "base_uri": "https://localhost:8080/"
        },
        "id": "gkosV10dDDkw",
        "outputId": "8109a96b-20dd-4edc-eb2f-0b42243b98c5"
      },
      "source": [
        "arr_reshaped[0,:,:]"
      ],
      "execution_count": 84,
      "outputs": [
        {
          "output_type": "execute_result",
          "data": {
            "text/plain": [
              "array([[ 1,  2],\n",
              "       [ 3,  4],\n",
              "       [ 5,  6],\n",
              "       [ 7,  8],\n",
              "       [ 9, 10]])"
            ]
          },
          "metadata": {
            "tags": []
          },
          "execution_count": 84
        }
      ]
    },
    {
      "cell_type": "markdown",
      "metadata": {
        "id": "yr_BEefMD9H8"
      },
      "source": [
        "Give me all the sub-arrays in the second sub-array"
      ]
    },
    {
      "cell_type": "code",
      "metadata": {
        "colab": {
          "base_uri": "https://localhost:8080/"
        },
        "id": "iBJTdF6rEDW_",
        "outputId": "fea69ed8-b8a2-4841-ee89-edd4f813abaf"
      },
      "source": [
        "arr_reshaped[1,:,:]"
      ],
      "execution_count": 86,
      "outputs": [
        {
          "output_type": "execute_result",
          "data": {
            "text/plain": [
              "array([[11, 12],\n",
              "       [13, 14],\n",
              "       [15, 16],\n",
              "       [17, 18],\n",
              "       [19, 20]])"
            ]
          },
          "metadata": {
            "tags": []
          },
          "execution_count": 86
        }
      ]
    },
    {
      "cell_type": "markdown",
      "metadata": {
        "id": "_9BdBNq1DnWE"
      },
      "source": [
        "Give me just the first element of each sub-array of both sub-arrays"
      ]
    },
    {
      "cell_type": "code",
      "metadata": {
        "colab": {
          "base_uri": "https://localhost:8080/"
        },
        "id": "ItkIuTgHDZu5",
        "outputId": "c53fbda7-d144-45d9-a8f3-faf516fd8210"
      },
      "source": [
        "arr_reshaped[:,:,0]"
      ],
      "execution_count": 85,
      "outputs": [
        {
          "output_type": "execute_result",
          "data": {
            "text/plain": [
              "array([[ 1,  3,  5,  7,  9],\n",
              "       [11, 13, 15, 17, 19]])"
            ]
          },
          "metadata": {
            "tags": []
          },
          "execution_count": 85
        }
      ]
    },
    {
      "cell_type": "code",
      "metadata": {
        "colab": {
          "base_uri": "https://localhost:8080/"
        },
        "id": "rX78u5Fw9X_g",
        "outputId": "e29d0a26-5f4d-4f59-b8c7-de45d145db9f"
      },
      "source": [
        "arr_reshaped.mean(axis = 1)"
      ],
      "execution_count": 56,
      "outputs": [
        {
          "output_type": "execute_result",
          "data": {
            "text/plain": [
              "array([[ 5.,  6.],\n",
              "       [15., 16.]])"
            ]
          },
          "metadata": {
            "tags": []
          },
          "execution_count": 56
        }
      ]
    },
    {
      "cell_type": "code",
      "metadata": {
        "colab": {
          "base_uri": "https://localhost:8080/"
        },
        "id": "jMUsiQVY9i6A",
        "outputId": "2c760c82-b990-4d8b-ab9d-c23dd00d2fb9"
      },
      "source": [
        "arr_reshaped.mean(axis = 0)"
      ],
      "execution_count": 57,
      "outputs": [
        {
          "output_type": "execute_result",
          "data": {
            "text/plain": [
              "array([[ 6.,  7.],\n",
              "       [ 8.,  9.],\n",
              "       [10., 11.],\n",
              "       [12., 13.],\n",
              "       [14., 15.]])"
            ]
          },
          "metadata": {
            "tags": []
          },
          "execution_count": 57
        }
      ]
    },
    {
      "cell_type": "code",
      "metadata": {
        "id": "15GpICTB-FTT"
      },
      "source": [
        ""
      ],
      "execution_count": null,
      "outputs": []
    },
    {
      "cell_type": "markdown",
      "metadata": {
        "id": "hllZIVKRAblQ"
      },
      "source": [
        "x = [1,2,3,4]\n",
        "y = [5,6,7,8]\n",
        "z = [9,10,11,12]\n",
        "a = [13, 14, 15, 16]\n",
        "b = [17,18,19,20]\n",
        "\n"
      ]
    },
    {
      "cell_type": "code",
      "metadata": {
        "colab": {
          "base_uri": "https://localhost:8080/"
        },
        "id": "X7YG2bZNAfB3",
        "outputId": "e4e4a602-5214-4388-b546-e020de21fd0c"
      },
      "source": [
        "x1 = np.array([x, y])\n",
        "x1"
      ],
      "execution_count": 61,
      "outputs": [
        {
          "output_type": "execute_result",
          "data": {
            "text/plain": [
              "array([[1, 2, 3, 4],\n",
              "       [5, 6, 7, 8]])"
            ]
          },
          "metadata": {
            "tags": []
          },
          "execution_count": 61
        }
      ]
    },
    {
      "cell_type": "code",
      "metadata": {
        "colab": {
          "base_uri": "https://localhost:8080/"
        },
        "id": "VWgfAP56BG44",
        "outputId": "4aa1cc76-d5d8-4124-ee3c-b1257e230866"
      },
      "source": [
        "x1.ndim"
      ],
      "execution_count": 65,
      "outputs": [
        {
          "output_type": "execute_result",
          "data": {
            "text/plain": [
              "2"
            ]
          },
          "metadata": {
            "tags": []
          },
          "execution_count": 65
        }
      ]
    },
    {
      "cell_type": "code",
      "metadata": {
        "colab": {
          "base_uri": "https://localhost:8080/"
        },
        "id": "1_Q6qDoxBRfg",
        "outputId": "cc58f2f3-5398-4247-c2fc-eb63bd8ee893"
      },
      "source": [
        "x1.mean(axis = 0)"
      ],
      "execution_count": 69,
      "outputs": [
        {
          "output_type": "execute_result",
          "data": {
            "text/plain": [
              "array([3., 4., 5., 6.])"
            ]
          },
          "metadata": {
            "tags": []
          },
          "execution_count": 69
        }
      ]
    },
    {
      "cell_type": "code",
      "metadata": {
        "colab": {
          "base_uri": "https://localhost:8080/"
        },
        "id": "7hPe5mgZBWH3",
        "outputId": "15d165ff-f944-4f3a-d422-371401dc545a"
      },
      "source": [
        "x1.mean(axis = 1)"
      ],
      "execution_count": 70,
      "outputs": [
        {
          "output_type": "execute_result",
          "data": {
            "text/plain": [
              "array([2.5, 6.5])"
            ]
          },
          "metadata": {
            "tags": []
          },
          "execution_count": 70
        }
      ]
    },
    {
      "cell_type": "code",
      "metadata": {
        "id": "HP92OUCSAlN5"
      },
      "source": [
        "x2 = np.array(x)"
      ],
      "execution_count": 72,
      "outputs": []
    },
    {
      "cell_type": "code",
      "metadata": {
        "colab": {
          "base_uri": "https://localhost:8080/"
        },
        "id": "yu1FS31aA2nP",
        "outputId": "358af6f2-36a4-4049-add4-6149fd5e3552"
      },
      "source": [
        "x2"
      ],
      "execution_count": 73,
      "outputs": [
        {
          "output_type": "execute_result",
          "data": {
            "text/plain": [
              "array([1, 2, 3, 4])"
            ]
          },
          "metadata": {
            "tags": []
          },
          "execution_count": 73
        }
      ]
    },
    {
      "cell_type": "code",
      "metadata": {
        "colab": {
          "base_uri": "https://localhost:8080/"
        },
        "id": "K0MfQfgeA5KV",
        "outputId": "1c95fe9f-2fcf-4391-b684-d3c458f46460"
      },
      "source": [
        "x2.ndim"
      ],
      "execution_count": 74,
      "outputs": [
        {
          "output_type": "execute_result",
          "data": {
            "text/plain": [
              "1"
            ]
          },
          "metadata": {
            "tags": []
          },
          "execution_count": 74
        }
      ]
    },
    {
      "cell_type": "code",
      "metadata": {
        "colab": {
          "base_uri": "https://localhost:8080/"
        },
        "id": "ggqGlFU7BAix",
        "outputId": "a2ed460f-72f2-47b7-90a7-87409219ceed"
      },
      "source": [
        "x2.mean()"
      ],
      "execution_count": 77,
      "outputs": [
        {
          "output_type": "execute_result",
          "data": {
            "text/plain": [
              "2.5"
            ]
          },
          "metadata": {
            "tags": []
          },
          "execution_count": 77
        }
      ]
    },
    {
      "cell_type": "code",
      "metadata": {
        "id": "qhUGxhuvBrLm"
      },
      "source": [
        ""
      ],
      "execution_count": null,
      "outputs": []
    }
  ]
}
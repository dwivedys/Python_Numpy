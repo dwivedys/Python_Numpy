{
  "nbformat": 4,
  "nbformat_minor": 0,
  "metadata": {
    "colab": {
      "name": "MultiDimensional_Arrays_Tensors.ipynb",
      "provenance": [],
      "collapsed_sections": [],
      "authorship_tag": "ABX9TyNPZbRBlqATr/zEt3g23w6i",
      "include_colab_link": true
    },
    "kernelspec": {
      "name": "python3",
      "display_name": "Python 3"
    }
  },
  "cells": [
    {
      "cell_type": "markdown",
      "metadata": {
        "id": "view-in-github",
        "colab_type": "text"
      },
      "source": [
        "<a href=\"https://colab.research.google.com/github/dwivedys/Python_Programs/blob/Tensors/MultiDimensional_Arrays_Tensors.ipynb\" target=\"_parent\"><img src=\"https://colab.research.google.com/assets/colab-badge.svg\" alt=\"Open In Colab\"/></a>"
      ]
    },
    {
      "cell_type": "markdown",
      "metadata": {
        "id": "6e3L2xoi8wDb"
      },
      "source": [
        "**0D Array or Tensor**"
      ]
    },
    {
      "cell_type": "code",
      "metadata": {
        "colab": {
          "base_uri": "https://localhost:8080/"
        },
        "id": "SOSmCa3G6C5V",
        "outputId": "f276e59e-d3fb-42ed-a360-d678657e0859"
      },
      "source": [
        "import numpy as np\n",
        "x = np.array(12)\n",
        "x\n"
      ],
      "execution_count": 58,
      "outputs": [
        {
          "output_type": "execute_result",
          "data": {
            "text/plain": [
              "array(12)"
            ]
          },
          "metadata": {
            "tags": []
          },
          "execution_count": 58
        }
      ]
    },
    {
      "cell_type": "markdown",
      "metadata": {
        "id": "H2deoF5XCxhs"
      },
      "source": [
        "Since it's a scalar 0D Tensor (a scalar number) - this tensor has no shape"
      ]
    },
    {
      "cell_type": "code",
      "metadata": {
        "colab": {
          "base_uri": "https://localhost:8080/"
        },
        "id": "ZmvXjJJfCuII",
        "outputId": "4fd81d82-c72f-46ed-876f-eb1abedfe031"
      },
      "source": [
        "x.shape"
      ],
      "execution_count": 59,
      "outputs": [
        {
          "output_type": "execute_result",
          "data": {
            "text/plain": [
              "()"
            ]
          },
          "metadata": {
            "tags": []
          },
          "execution_count": 59
        }
      ]
    },
    {
      "cell_type": "markdown",
      "metadata": {
        "id": "RP-7OwhhC4S5"
      },
      "source": [
        "Also it has no dimension"
      ]
    },
    {
      "cell_type": "code",
      "metadata": {
        "colab": {
          "base_uri": "https://localhost:8080/"
        },
        "id": "nu8DwiHh6uCF",
        "outputId": "d1bc193c-548d-4d2a-f976-8e3d942b1166"
      },
      "source": [
        "x.ndim"
      ],
      "execution_count": 21,
      "outputs": [
        {
          "output_type": "execute_result",
          "data": {
            "text/plain": [
              "0"
            ]
          },
          "metadata": {
            "tags": []
          },
          "execution_count": 21
        }
      ]
    },
    {
      "cell_type": "markdown",
      "metadata": {
        "id": "ZELNm3iA80ER"
      },
      "source": [
        "**A 1D Array or Tensor**"
      ]
    },
    {
      "cell_type": "code",
      "metadata": {
        "colab": {
          "base_uri": "https://localhost:8080/"
        },
        "id": "xRSaYSUT6z33",
        "outputId": "5b2f923f-dbda-4dbb-d4ab-49abc801512b"
      },
      "source": [
        "x = np.array([1,2,3,4])\n",
        "x\n"
      ],
      "execution_count": 61,
      "outputs": [
        {
          "output_type": "execute_result",
          "data": {
            "text/plain": [
              "array([1, 2, 3, 4])"
            ]
          },
          "metadata": {
            "tags": []
          },
          "execution_count": 61
        }
      ]
    },
    {
      "cell_type": "markdown",
      "metadata": {
        "id": "gV9F8EQVDdR2"
      },
      "source": [
        "It has a shape of (4,) because it has 1D and the array has 4 elements so it's a 4D Vector (or 4 dimensional vector - meaning a vector with 4 elements in it)\n"
      ]
    },
    {
      "cell_type": "code",
      "metadata": {
        "colab": {
          "base_uri": "https://localhost:8080/"
        },
        "id": "Mad8FN62DaBc",
        "outputId": "822ed132-eadc-464d-b40a-8f67f3255263"
      },
      "source": [
        "x.shape"
      ],
      "execution_count": 62,
      "outputs": [
        {
          "output_type": "execute_result",
          "data": {
            "text/plain": [
              "(4,)"
            ]
          },
          "metadata": {
            "tags": []
          },
          "execution_count": 62
        }
      ]
    },
    {
      "cell_type": "markdown",
      "metadata": {
        "id": "ZzvuTAFqDD_j"
      },
      "source": [
        "This array is a one-dimensional array (1D Array) or a Tensor of Rank 1 because it has a single array in it."
      ]
    },
    {
      "cell_type": "code",
      "metadata": {
        "colab": {
          "base_uri": "https://localhost:8080/"
        },
        "id": "KyCxuKrF69Cn",
        "outputId": "c097c0cd-8fb2-40d4-ab3b-abafb864a38e"
      },
      "source": [
        "x.ndim"
      ],
      "execution_count": 23,
      "outputs": [
        {
          "output_type": "execute_result",
          "data": {
            "text/plain": [
              "1"
            ]
          },
          "metadata": {
            "tags": []
          },
          "execution_count": 23
        }
      ]
    },
    {
      "cell_type": "markdown",
      "metadata": {
        "id": "RUk6x7n9D0dp"
      },
      "source": [
        "**2D Array or Tensor of Rank 2**"
      ]
    },
    {
      "cell_type": "markdown",
      "metadata": {
        "id": "xBc3LGRw87g7"
      },
      "source": [
        "This is a 2D Array or Tensor. Why? Because it comprises of more than 1 1D arrays"
      ]
    },
    {
      "cell_type": "code",
      "metadata": {
        "colab": {
          "base_uri": "https://localhost:8080/"
        },
        "id": "Y5cAHftr6-s5",
        "outputId": "3d90f956-fefa-4589-acbd-5f0d1a540555"
      },
      "source": [
        "x = np.array([[1,2,3,4], [3,4,5,6]])\n",
        "x"
      ],
      "execution_count": 55,
      "outputs": [
        {
          "output_type": "execute_result",
          "data": {
            "text/plain": [
              "array([[1, 2, 3, 4],\n",
              "       [3, 4, 5, 6]])"
            ]
          },
          "metadata": {
            "tags": []
          },
          "execution_count": 55
        }
      ]
    },
    {
      "cell_type": "markdown",
      "metadata": {
        "id": "KfDhLGrSCaLN"
      },
      "source": [
        "This array has a shape of (2,4)"
      ]
    },
    {
      "cell_type": "code",
      "metadata": {
        "colab": {
          "base_uri": "https://localhost:8080/"
        },
        "id": "Fa4XSo5RCd3q",
        "outputId": "212b078a-959b-49e4-ed5a-3649055c2b81"
      },
      "source": [
        "x.shape"
      ],
      "execution_count": 56,
      "outputs": [
        {
          "output_type": "execute_result",
          "data": {
            "text/plain": [
              "(2, 4)"
            ]
          },
          "metadata": {
            "tags": []
          },
          "execution_count": 56
        }
      ]
    },
    {
      "cell_type": "markdown",
      "metadata": {
        "id": "CYI7YCMACnzt"
      },
      "source": [
        "And it's a 2 Dimensional array - a Tensor of rank 2 as it is called"
      ]
    },
    {
      "cell_type": "code",
      "metadata": {
        "colab": {
          "base_uri": "https://localhost:8080/"
        },
        "id": "a1N0e9I_7WT1",
        "outputId": "c9a2f1e2-0520-49a1-917a-21991f6f359a"
      },
      "source": [
        "x.ndim"
      ],
      "execution_count": 36,
      "outputs": [
        {
          "output_type": "execute_result",
          "data": {
            "text/plain": [
              "2"
            ]
          },
          "metadata": {
            "tags": []
          },
          "execution_count": 36
        }
      ]
    },
    {
      "cell_type": "code",
      "metadata": {
        "colab": {
          "base_uri": "https://localhost:8080/"
        },
        "id": "kTWid63U7a9h",
        "outputId": "22b4ba1e-efbf-48aa-edf8-8730238dc3f0"
      },
      "source": [
        "len(x)"
      ],
      "execution_count": 37,
      "outputs": [
        {
          "output_type": "execute_result",
          "data": {
            "text/plain": [
              "2"
            ]
          },
          "metadata": {
            "tags": []
          },
          "execution_count": 37
        }
      ]
    },
    {
      "cell_type": "markdown",
      "metadata": {
        "id": "ij4G4Zj29eCV"
      },
      "source": [
        "Let's do one more example of a 2D Array or Tensor, this time comprising 3 arrays "
      ]
    },
    {
      "cell_type": "code",
      "metadata": {
        "colab": {
          "base_uri": "https://localhost:8080/"
        },
        "id": "NH60I7N-9dpN",
        "outputId": "df5f679c-1e45-44d0-bbd9-8156aaedbab4"
      },
      "source": [
        "x = np.array([[1,2,3,4], [3,4,5,6], [3,4,5,6]])\n",
        "x"
      ],
      "execution_count": 38,
      "outputs": [
        {
          "output_type": "execute_result",
          "data": {
            "text/plain": [
              "array([[1, 2, 3, 4],\n",
              "       [3, 4, 5, 6],\n",
              "       [3, 4, 5, 6]])"
            ]
          },
          "metadata": {
            "tags": []
          },
          "execution_count": 38
        }
      ]
    },
    {
      "cell_type": "markdown",
      "metadata": {
        "id": "90zhosFx9uXA"
      },
      "source": [
        "Now if we do len(x) we will get 3"
      ]
    },
    {
      "cell_type": "code",
      "metadata": {
        "colab": {
          "base_uri": "https://localhost:8080/"
        },
        "id": "_hvjQOdO9reN",
        "outputId": "fee5480e-fe42-4e69-97c1-e438a5989eaa"
      },
      "source": [
        "len(x)"
      ],
      "execution_count": 39,
      "outputs": [
        {
          "output_type": "execute_result",
          "data": {
            "text/plain": [
              "3"
            ]
          },
          "metadata": {
            "tags": []
          },
          "execution_count": 39
        }
      ]
    },
    {
      "cell_type": "markdown",
      "metadata": {
        "id": "QAu9GHdh90Gr"
      },
      "source": [
        "This code snippet retrieves the 4th element of the first array in 2D Array or Tensor"
      ]
    },
    {
      "cell_type": "code",
      "metadata": {
        "colab": {
          "base_uri": "https://localhost:8080/"
        },
        "id": "VIppPk0Q7f4H",
        "outputId": "89be54de-8b8c-452e-d674-ccd0a00b425f"
      },
      "source": [
        "x[0][3]"
      ],
      "execution_count": 28,
      "outputs": [
        {
          "output_type": "execute_result",
          "data": {
            "text/plain": [
              "4"
            ]
          },
          "metadata": {
            "tags": []
          },
          "execution_count": 28
        }
      ]
    },
    {
      "cell_type": "markdown",
      "metadata": {
        "id": "0RDgXJeJ-AnP"
      },
      "source": [
        "Now we will explore a 3D Array or Tensor - Why is it 3D? This is also called a Rank 3 Tensor. Why so? Because if you notice - the Tensor (or the numpy array) has 1D arrays like [1,2,3,4] and there are 3 of them so it makes 2D Tensor - But this entire structure is repeated again so it becomes 3D Tensor. This array x will have interesting properties - in terms of its ndim and len as we will see"
      ]
    },
    {
      "cell_type": "code",
      "metadata": {
        "id": "S1yDZb8A7rH3"
      },
      "source": [
        "x = np.array([[[1,2,3,4], [5,6,7,8], [9,10,11,12]], [[13,14,15,16], [17,18,19,20], [21,22,23,24]]])"
      ],
      "execution_count": 45,
      "outputs": []
    },
    {
      "cell_type": "markdown",
      "metadata": {
        "id": "qsgx1Gs6-ogU"
      },
      "source": [
        "As explained - x is a 3D array or Tensor of Rank 3"
      ]
    },
    {
      "cell_type": "code",
      "metadata": {
        "colab": {
          "base_uri": "https://localhost:8080/"
        },
        "id": "5tRHwmMw71OF",
        "outputId": "88569a64-591b-4e25-c738-f66373ddd9f6"
      },
      "source": [
        "x.ndim"
      ],
      "execution_count": 46,
      "outputs": [
        {
          "output_type": "execute_result",
          "data": {
            "text/plain": [
              "3"
            ]
          },
          "metadata": {
            "tags": []
          },
          "execution_count": 46
        }
      ]
    },
    {
      "cell_type": "markdown",
      "metadata": {
        "id": "pVfQRYF2-xj2"
      },
      "source": [
        "Let's look at len(x) - Now this array has only 2 major elements - the first one comprises the arrays [[1,2,3,4], [5,6,7,8], [9,10,11,12]] and similarly the second one comprises [[13,14,15,16], [17,18,19,20], [21,22,23,24]]. Do carefully note the square bracket positioning. Hence, if you index the array x it only has two elements and hence length of the array x is 2"
      ]
    },
    {
      "cell_type": "code",
      "metadata": {
        "colab": {
          "base_uri": "https://localhost:8080/"
        },
        "id": "a0Yd6usM-ubS",
        "outputId": "1bbe30c3-9ea9-47bc-b6e4-f4199cca5e0a"
      },
      "source": [
        "len(x)"
      ],
      "execution_count": 47,
      "outputs": [
        {
          "output_type": "execute_result",
          "data": {
            "text/plain": [
              "2"
            ]
          },
          "metadata": {
            "tags": []
          },
          "execution_count": 47
        }
      ]
    },
    {
      "cell_type": "markdown",
      "metadata": {
        "id": "2JWjyL9yALzY"
      },
      "source": [
        "Clearly the first element of x comprises 3 sub-arrays hence its length will be 3"
      ]
    },
    {
      "cell_type": "code",
      "metadata": {
        "colab": {
          "base_uri": "https://localhost:8080/"
        },
        "id": "PCf-Y8hc73zV",
        "outputId": "27e3125f-1a5b-47b1-dd88-20e4ca282301"
      },
      "source": [
        "len(x[0])"
      ],
      "execution_count": 48,
      "outputs": [
        {
          "output_type": "execute_result",
          "data": {
            "text/plain": [
              "3"
            ]
          },
          "metadata": {
            "tags": []
          },
          "execution_count": 48
        }
      ]
    },
    {
      "cell_type": "markdown",
      "metadata": {
        "id": "hKrnA1jLATUb"
      },
      "source": [
        "Also, within the first element, if you get hold of the FIRST SUBARRAY - it has 4 elements [it's 4D Vector and 1D Tensor] and hence its length will be 4"
      ]
    },
    {
      "cell_type": "code",
      "metadata": {
        "colab": {
          "base_uri": "https://localhost:8080/"
        },
        "id": "9_QHglb5AERQ",
        "outputId": "3d06d685-d1a3-4564-f1c0-976ad905d0fa"
      },
      "source": [
        "len(x[0,0,])"
      ],
      "execution_count": 50,
      "outputs": [
        {
          "output_type": "execute_result",
          "data": {
            "text/plain": [
              "4"
            ]
          },
          "metadata": {
            "tags": []
          },
          "execution_count": 50
        }
      ]
    },
    {
      "cell_type": "markdown",
      "metadata": {
        "id": "W-W6GVUvAmwp"
      },
      "source": [
        "Similarly, the first element of the array x is a 2 Dimensional Tensor because it has more than one 1D arrays hence its ndim will return 2"
      ]
    },
    {
      "cell_type": "code",
      "metadata": {
        "colab": {
          "base_uri": "https://localhost:8080/"
        },
        "id": "ZrC1ciBe77P3",
        "outputId": "742b0bfe-454e-42fd-caab-a2a0be3693ad"
      },
      "source": [
        "x[0].ndim"
      ],
      "execution_count": 33,
      "outputs": [
        {
          "output_type": "execute_result",
          "data": {
            "text/plain": [
              "2"
            ]
          },
          "metadata": {
            "tags": []
          },
          "execution_count": 33
        }
      ]
    },
    {
      "cell_type": "code",
      "metadata": {
        "id": "Ok3q4DXjBwTh"
      },
      "source": [
        "from keras.datasets import mnist\n",
        "(train_images, train_labels), (test_images, test_labels) = mnist.load_data()"
      ],
      "execution_count": 52,
      "outputs": []
    },
    {
      "cell_type": "code",
      "metadata": {
        "colab": {
          "base_uri": "https://localhost:8080/",
          "height": 265
        },
        "id": "WFVG69EA8YfN",
        "outputId": "1b6a129b-703f-4b72-fcc0-b377451b1af0"
      },
      "source": [
        "digit = train_images[4]\n",
        "import matplotlib.pyplot as plt\n",
        "plt.imshow(digit, cmap=plt.cm.binary)\n",
        "plt.show()"
      ],
      "execution_count": 53,
      "outputs": [
        {
          "output_type": "display_data",
          "data": {
            "image/png": "[encoded data removed]",
            "text/plain": [
              "<Figure size 432x288 with 1 Axes>"
            ]
          },
          "metadata": {
            "tags": [],
            "needs_background": "light"
          }
        }
      ]
    },
    {
      "cell_type": "code",
      "metadata": {
        "id": "DicDuKK7Beim"
      },
      "source": [
        ""
      ],
      "execution_count": null,
      "outputs": []
    }
  ]
}
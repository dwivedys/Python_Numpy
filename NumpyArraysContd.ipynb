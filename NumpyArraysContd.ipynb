{
  "nbformat": 4,
  "nbformat_minor": 0,
  "metadata": {
    "colab": {
      "name": "NumpyArraysContd.ipynb",
      "provenance": [],
      "authorship_tag": "ABX9TyMHiMfIjYDXQNtmTdFGrxJr",
      "include_colab_link": true
    },
    "kernelspec": {
      "name": "python3",
      "display_name": "Python 3"
    }
  },
  "cells": [
    {
      "cell_type": "markdown",
      "metadata": {
        "id": "view-in-github",
        "colab_type": "text"
      },
      "source": [
        "<a href=\"https://colab.research.google.com/github/dwivedys/Python_Programs/blob/Numpy_Programs/NumpyArraysContd.ipynb\" target=\"_parent\"><img src=\"https://colab.research.google.com/assets/colab-badge.svg\" alt=\"Open In Colab\"/></a>"
      ]
    },
    {
      "cell_type": "markdown",
      "metadata": {
        "id": "Rv_ttMGqXom1"
      },
      "source": [
        "# In this notebook - we will attempt to understand multi-dimensional numpy arrays.  "
      ]
    },
    {
      "cell_type": "markdown",
      "metadata": {
        "id": "eRQXbdF7dKlV"
      },
      "source": [
        "Before jumping into arrays of higher dimension it is worthwhile to understand scalar arrays"
      ]
    },
    {
      "cell_type": "code",
      "metadata": {
        "id": "kq1Wyp2-cdfk",
        "outputId": "961a1c15-db20-4d5c-cac5-b9e17c83b6d6",
        "colab": {
          "base_uri": "https://localhost:8080/"
        }
      },
      "source": [
        "# A 0D Tensor or zero dimensional array - a scalar\n",
        "\n",
        "x = np.array(1)\n",
        "x"
      ],
      "execution_count": 26,
      "outputs": [
        {
          "output_type": "execute_result",
          "data": {
            "text/plain": [
              "array(1)"
            ]
          },
          "metadata": {
            "tags": []
          },
          "execution_count": 26
        }
      ]
    },
    {
      "cell_type": "markdown",
      "metadata": {
        "id": "eDGrvEMNcqgc"
      },
      "source": [
        "It has 0 dimension"
      ]
    },
    {
      "cell_type": "code",
      "metadata": {
        "id": "VgSGfocecnLQ",
        "outputId": "5d4ab51d-83ec-4484-df27-a7dbda43a8e0",
        "colab": {
          "base_uri": "https://localhost:8080/"
        }
      },
      "source": [
        "x.ndim"
      ],
      "execution_count": 27,
      "outputs": [
        {
          "output_type": "execute_result",
          "data": {
            "text/plain": [
              "0"
            ]
          },
          "metadata": {
            "tags": []
          },
          "execution_count": 27
        }
      ]
    },
    {
      "cell_type": "markdown",
      "metadata": {
        "id": "Bj-blZtPcvbZ"
      },
      "source": [
        "It has no shape - because it is a scalar"
      ]
    },
    {
      "cell_type": "code",
      "metadata": {
        "id": "LNf-GE-ictoB",
        "outputId": "f894e04a-65f1-49c7-becc-419262ae7ccf",
        "colab": {
          "base_uri": "https://localhost:8080/"
        }
      },
      "source": [
        "x.shape"
      ],
      "execution_count": 28,
      "outputs": [
        {
          "output_type": "execute_result",
          "data": {
            "text/plain": [
              "()"
            ]
          },
          "metadata": {
            "tags": []
          },
          "execution_count": 28
        }
      ]
    },
    {
      "cell_type": "markdown",
      "metadata": {
        "id": "-075678DdYdd"
      },
      "source": [
        "# Now we move on to the exploration of multidimensional numpy arrays"
      ]
    },
    {
      "cell_type": "markdown",
      "metadata": {
        "id": "jF5vUEJeYMbZ"
      },
      "source": [
        "As a motivating example - here's an example of a multi-dimensional numpy array\n",
        "`numpy.array([[1,2], [3,4], [5,6])`. The way to read this array is as follows\n",
        "\n",
        "You can see that there are a total of 3 sub-arrays within the big array. Each of the sub-array has 2 elements. This is what we refer to as a 2D numpy array or Tensor of Rank 2\n",
        "You can run the shape command on this array and it will give the result `(3,2)` because the array has 3 sub-arrays, each sub-array having 2 elements\n",
        "\n",
        "Please note that I will be using the terms numpy arrays and Tensors interchangeably. A multi-dimensional array and Tensors are the same technically speaking. We speak of dimensions when we talk of arrays - and we speak of Rank when we talk of Tensors\n",
        "\n",
        "Note that a constant value like 1 or 2 or any constant number in the context of numpy arrays - declared like so - numpy.array(1) is an array with no dimensions or a zero dim Tensor (0D Tensor)\n"
      ]
    },
    {
      "cell_type": "markdown",
      "metadata": {
        "id": "MsOLf6luc1Qm"
      },
      "source": [
        "Now let's explore multi-dimensional numpy arrays"
      ]
    },
    {
      "cell_type": "code",
      "metadata": {
        "colab": {
          "base_uri": "https://localhost:8080/"
        },
        "id": "6HTwtsFlYuqO",
        "outputId": "482d044e-d81d-4eee-9f36-86c9e97cbecd"
      },
      "source": [
        "import numpy as np\n",
        "motivating_example_array = np.array([[1,2], [3,4], [5,6]])\n",
        "motivating_example_array.shape"
      ],
      "execution_count": 21,
      "outputs": [
        {
          "output_type": "execute_result",
          "data": {
            "text/plain": [
              "(3, 2)"
            ]
          },
          "metadata": {
            "tags": []
          },
          "execution_count": 21
        }
      ]
    },
    {
      "cell_type": "markdown",
      "metadata": {
        "id": "gnZ1xGX8Zf8-"
      },
      "source": [
        "You can also run the **ndim** command to check the dimensions of the array, like so; Since this is a 2D array the answer will be 2"
      ]
    },
    {
      "cell_type": "code",
      "metadata": {
        "colab": {
          "base_uri": "https://localhost:8080/"
        },
        "id": "UD5_mvUdZl-d",
        "outputId": "e31703a7-dffb-452b-dd4f-26c6a4c2e42e"
      },
      "source": [
        "motivating_example_array.ndim"
      ],
      "execution_count": 23,
      "outputs": [
        {
          "output_type": "execute_result",
          "data": {
            "text/plain": [
              "2"
            ]
          },
          "metadata": {
            "tags": []
          },
          "execution_count": 23
        }
      ]
    },
    {
      "cell_type": "markdown",
      "metadata": {
        "id": "mpJe0rG0ZZt3"
      },
      "source": [
        "Now let us look at an example of a 3D numpy array or a Tensor of Rank 3;\n",
        "As can be seen below, we now have a numpy array that has actually 2 sets of sub-arrays - the first set being `[[1,2], [3,4], [5,6]]` and the second set being `[[7,8], [9,10], [11,12]] `\n",
        "Each of these \"sets\" have 3 sub-arrays each and \n",
        "Each sub-array has 2 elements \n",
        "Hence the SHAPE of this array will be `(2,3,2)`"
      ]
    },
    {
      "cell_type": "code",
      "metadata": {
        "colab": {
          "base_uri": "https://localhost:8080/"
        },
        "id": "TCjPvMcSZFA3",
        "outputId": "18210029-9270-4c69-a743-f57f4ad6b53b"
      },
      "source": [
        "a3Darray_example = np.array([[[1,2], [3,4], [5,6]], [[7,8], [9,10], [11,12]]])\n",
        "a3Darray_example.shape"
      ],
      "execution_count": 22,
      "outputs": [
        {
          "output_type": "execute_result",
          "data": {
            "text/plain": [
              "(2, 3, 2)"
            ]
          },
          "metadata": {
            "tags": []
          },
          "execution_count": 22
        }
      ]
    },
    {
      "cell_type": "markdown",
      "metadata": {
        "id": "ou00P7S8aFQg"
      },
      "source": [
        "We can again run ndim to find out that it is indeed a 3D array"
      ]
    },
    {
      "cell_type": "code",
      "metadata": {
        "colab": {
          "base_uri": "https://localhost:8080/"
        },
        "id": "T7Mv7gjPaLq6",
        "outputId": "dccf2e7f-c700-4e24-8453-0d12abfdd5ce"
      },
      "source": [
        "a3Darray_example.ndim"
      ],
      "execution_count": 25,
      "outputs": [
        {
          "output_type": "execute_result",
          "data": {
            "text/plain": [
              "3"
            ]
          },
          "metadata": {
            "tags": []
          },
          "execution_count": 25
        }
      ]
    },
    {
      "cell_type": "markdown",
      "metadata": {
        "id": "ExCCQ8Ahbp4O"
      },
      "source": [
        "# Now I would like to explain multi-dimensional numpy arrays or Tensors in the context of the famous MNIST Dataset"
      ]
    },
    {
      "cell_type": "code",
      "metadata": {
        "colab": {
          "base_uri": "https://localhost:8080/"
        },
        "id": "ybB49N1aRpAK",
        "outputId": "b6ce2d9f-fc31-4d60-f67f-0abae4fdfd7a"
      },
      "source": [
        "from keras.datasets import mnist\n",
        "(train_images, train_labels), (test_images, test_labels) = mnist.load_data()"
      ],
      "execution_count": 1,
      "outputs": [
        {
          "output_type": "stream",
          "text": [
            "Downloading data from https://storage.googleapis.com/tensorflow/tf-keras-datasets/mnist.npz\n",
            "11493376/11490434 [==============================] - 0s 0us/step\n"
          ],
          "name": "stdout"
        }
      ]
    },
    {
      "cell_type": "markdown",
      "metadata": {
        "id": "1FKEkueTWBq4"
      },
      "source": [
        "**The train_images numpy array is a 3 Dimensional numpy array or a tensor of Rank 3; It has 60000 sub-arrays, with each sub-array itself having 28 sub-arrays and each of the 28 sub-arrays having 28 elements. \n",
        "We shall explore these points through the commands below**\n",
        "  "
      ]
    },
    {
      "cell_type": "code",
      "metadata": {
        "colab": {
          "base_uri": "https://localhost:8080/"
        },
        "id": "gSsFDdG1Rpp7",
        "outputId": "4f4f240e-eacc-4650-f067-38d692da3ee0"
      },
      "source": [
        "train_images.shape"
      ],
      "execution_count": 2,
      "outputs": [
        {
          "output_type": "execute_result",
          "data": {
            "text/plain": [
              "(60000, 28, 28)"
            ]
          },
          "metadata": {
            "tags": []
          },
          "execution_count": 2
        }
      ]
    },
    {
      "cell_type": "code",
      "metadata": {
        "colab": {
          "base_uri": "https://localhost:8080/"
        },
        "id": "gCFiOguVWj55",
        "outputId": "e56daa30-dd01-46dc-883a-3e02a4368a2e"
      },
      "source": [
        "train_images.ndim"
      ],
      "execution_count": 19,
      "outputs": [
        {
          "output_type": "execute_result",
          "data": {
            "text/plain": [
              "3"
            ]
          },
          "metadata": {
            "tags": []
          },
          "execution_count": 19
        }
      ]
    },
    {
      "cell_type": "markdown",
      "metadata": {
        "id": "yLSQ6OgqWogW"
      },
      "source": [
        "**As stated above the very first element of train_images is an array which has 28 sub-arrays in it. So its length should be 28 as demonstrated below**"
      ]
    },
    {
      "cell_type": "code",
      "metadata": {
        "colab": {
          "base_uri": "https://localhost:8080/"
        },
        "id": "RMc2cjzbS2Yp",
        "outputId": "f475d9cd-4f2a-4e19-c395-a6de989b9174"
      },
      "source": [
        "len(train_images[0])"
      ],
      "execution_count": 9,
      "outputs": [
        {
          "output_type": "execute_result",
          "data": {
            "text/plain": [
              "28"
            ]
          },
          "metadata": {
            "tags": []
          },
          "execution_count": 9
        }
      ]
    },
    {
      "cell_type": "markdown",
      "metadata": {
        "id": "Uc8i8mMJW6U8"
      },
      "source": [
        "**Again observe that the very first sub-array of the first element of train_images has 28 elements in it - so its length also will be 28**"
      ]
    },
    {
      "cell_type": "code",
      "metadata": {
        "colab": {
          "base_uri": "https://localhost:8080/"
        },
        "id": "blAjmFbnSMfb",
        "outputId": "917bbd82-08be-4c64-b4ae-2758130692d7"
      },
      "source": [
        "len(train_images[0][0])"
      ],
      "execution_count": 8,
      "outputs": [
        {
          "output_type": "execute_result",
          "data": {
            "text/plain": [
              "28"
            ]
          },
          "metadata": {
            "tags": []
          },
          "execution_count": 8
        }
      ]
    },
    {
      "cell_type": "markdown",
      "metadata": {
        "id": "DYiFHgrBS8RT"
      },
      "source": [
        "**Let us inspect the very first sub-array of train_images in the first of the 60000 sub-arrays**"
      ]
    },
    {
      "cell_type": "code",
      "metadata": {
        "colab": {
          "base_uri": "https://localhost:8080/"
        },
        "id": "u86NU6cBTAhk",
        "outputId": "39706b2f-81ec-4098-daf0-82d90264fc40"
      },
      "source": [
        "train_images[0][0]"
      ],
      "execution_count": 10,
      "outputs": [
        {
          "output_type": "execute_result",
          "data": {
            "text/plain": [
              "array([0, 0, 0, 0, 0, 0, 0, 0, 0, 0, 0, 0, 0, 0, 0, 0, 0, 0, 0, 0, 0, 0,\n",
              "       0, 0, 0, 0, 0, 0], dtype=uint8)"
            ]
          },
          "metadata": {
            "tags": []
          },
          "execution_count": 10
        }
      ]
    },
    {
      "cell_type": "markdown",
      "metadata": {
        "id": "RuPNWYPITJjf"
      },
      "source": [
        "**And the second sub-array in the first group**"
      ]
    },
    {
      "cell_type": "code",
      "metadata": {
        "colab": {
          "base_uri": "https://localhost:8080/"
        },
        "id": "8p_c0jG3TZ60",
        "outputId": "f476ce42-80a7-40b6-812f-8cd1de7b2f95"
      },
      "source": [
        "train_images[0][1]"
      ],
      "execution_count": 11,
      "outputs": [
        {
          "output_type": "execute_result",
          "data": {
            "text/plain": [
              "array([0, 0, 0, 0, 0, 0, 0, 0, 0, 0, 0, 0, 0, 0, 0, 0, 0, 0, 0, 0, 0, 0,\n",
              "       0, 0, 0, 0, 0, 0], dtype=uint8)"
            ]
          },
          "metadata": {
            "tags": []
          },
          "execution_count": 11
        }
      ]
    },
    {
      "cell_type": "markdown",
      "metadata": {
        "id": "BlzjX7ILTl6t"
      },
      "source": [
        "**And here's the first sub-array of the 59999th sub-array**"
      ]
    },
    {
      "cell_type": "code",
      "metadata": {
        "colab": {
          "base_uri": "https://localhost:8080/"
        },
        "id": "bJTI7kGGTfPF",
        "outputId": "cd2e078d-a39f-43b5-f618-ae6c75e0261a"
      },
      "source": [
        "train_images[59999][0]"
      ],
      "execution_count": 12,
      "outputs": [
        {
          "output_type": "execute_result",
          "data": {
            "text/plain": [
              "array([0, 0, 0, 0, 0, 0, 0, 0, 0, 0, 0, 0, 0, 0, 0, 0, 0, 0, 0, 0, 0, 0,\n",
              "       0, 0, 0, 0, 0, 0], dtype=uint8)"
            ]
          },
          "metadata": {
            "tags": []
          },
          "execution_count": 12
        }
      ]
    },
    {
      "cell_type": "code",
      "metadata": {
        "colab": {
          "base_uri": "https://localhost:8080/"
        },
        "id": "2RLUkq1UT4Me",
        "outputId": "dd5d22d8-a900-496d-d1de-62b444579fa4"
      },
      "source": [
        "train_images[59999][0][0]"
      ],
      "execution_count": 13,
      "outputs": [
        {
          "output_type": "execute_result",
          "data": {
            "text/plain": [
              "0"
            ]
          },
          "metadata": {
            "tags": []
          },
          "execution_count": 13
        }
      ]
    },
    {
      "cell_type": "markdown",
      "metadata": {
        "id": "u-9P8N87XW9b"
      },
      "source": [
        "**Let us pull out the very last (28th) element of each of the sub-arrays; there should be a total of 60000 such elements broken into sub-arrays of 28 elements each**"
      ]
    },
    {
      "cell_type": "code",
      "metadata": {
        "colab": {
          "base_uri": "https://localhost:8080/"
        },
        "id": "ohZQY-3rUPOv",
        "outputId": "7a5a3601-ea2e-4915-e10c-6b30dcb27d0a"
      },
      "source": [
        "train_images[:,:,27]"
      ],
      "execution_count": 15,
      "outputs": [
        {
          "output_type": "execute_result",
          "data": {
            "text/plain": [
              "array([[0, 0, 0, ..., 0, 0, 0],\n",
              "       [0, 0, 0, ..., 0, 0, 0],\n",
              "       [0, 0, 0, ..., 0, 0, 0],\n",
              "       ...,\n",
              "       [0, 0, 0, ..., 0, 0, 0],\n",
              "       [0, 0, 0, ..., 0, 0, 0],\n",
              "       [0, 0, 0, ..., 0, 0, 0]], dtype=uint8)"
            ]
          },
          "metadata": {
            "tags": []
          },
          "execution_count": 15
        }
      ]
    },
    {
      "cell_type": "markdown",
      "metadata": {
        "id": "LstNTnSbXnK6"
      },
      "source": [
        ""
      ]
    },
    {
      "cell_type": "code",
      "metadata": {
        "colab": {
          "base_uri": "https://localhost:8080/"
        },
        "id": "6jim5wR0UW77",
        "outputId": "1133afeb-1b47-4583-d18d-082107f8a8bb"
      },
      "source": [
        "len(train_images[:,:,27])"
      ],
      "execution_count": 17,
      "outputs": [
        {
          "output_type": "execute_result",
          "data": {
            "text/plain": [
              "60000"
            ]
          },
          "metadata": {
            "tags": []
          },
          "execution_count": 17
        }
      ]
    },
    {
      "cell_type": "code",
      "metadata": {
        "colab": {
          "base_uri": "https://localhost:8080/"
        },
        "id": "TEIntgChUs-t",
        "outputId": "544fecff-690e-44de-eaeb-a5fa9f311169"
      },
      "source": [
        "len(train_images[:,:,27][0])"
      ],
      "execution_count": 18,
      "outputs": [
        {
          "output_type": "execute_result",
          "data": {
            "text/plain": [
              "28"
            ]
          },
          "metadata": {
            "tags": []
          },
          "execution_count": 18
        }
      ]
    },
    {
      "cell_type": "code",
      "metadata": {
        "colab": {
          "base_uri": "https://localhost:8080/"
        },
        "id": "r7TvEM0tSSqa",
        "outputId": "2eac3ec2-6247-4107-8685-e6e2e0f7900c"
      },
      "source": [
        "len(train_images[:,0:,])"
      ],
      "execution_count": 6,
      "outputs": [
        {
          "output_type": "execute_result",
          "data": {
            "text/plain": [
              "60000"
            ]
          },
          "metadata": {
            "tags": []
          },
          "execution_count": 6
        }
      ]
    },
    {
      "cell_type": "code",
      "metadata": {
        "colab": {
          "base_uri": "https://localhost:8080/"
        },
        "id": "l3vLQ-j-RyGp",
        "outputId": "57da75d4-e1f1-44ec-a7c4-397d38997207"
      },
      "source": [
        "train_images[0:,:,]"
      ],
      "execution_count": 4,
      "outputs": [
        {
          "output_type": "execute_result",
          "data": {
            "text/plain": [
              "array([[[0, 0, 0, ..., 0, 0, 0],\n",
              "        [0, 0, 0, ..., 0, 0, 0],\n",
              "        [0, 0, 0, ..., 0, 0, 0],\n",
              "        ...,\n",
              "        [0, 0, 0, ..., 0, 0, 0],\n",
              "        [0, 0, 0, ..., 0, 0, 0],\n",
              "        [0, 0, 0, ..., 0, 0, 0]],\n",
              "\n",
              "       [[0, 0, 0, ..., 0, 0, 0],\n",
              "        [0, 0, 0, ..., 0, 0, 0],\n",
              "        [0, 0, 0, ..., 0, 0, 0],\n",
              "        ...,\n",
              "        [0, 0, 0, ..., 0, 0, 0],\n",
              "        [0, 0, 0, ..., 0, 0, 0],\n",
              "        [0, 0, 0, ..., 0, 0, 0]],\n",
              "\n",
              "       [[0, 0, 0, ..., 0, 0, 0],\n",
              "        [0, 0, 0, ..., 0, 0, 0],\n",
              "        [0, 0, 0, ..., 0, 0, 0],\n",
              "        ...,\n",
              "        [0, 0, 0, ..., 0, 0, 0],\n",
              "        [0, 0, 0, ..., 0, 0, 0],\n",
              "        [0, 0, 0, ..., 0, 0, 0]],\n",
              "\n",
              "       ...,\n",
              "\n",
              "       [[0, 0, 0, ..., 0, 0, 0],\n",
              "        [0, 0, 0, ..., 0, 0, 0],\n",
              "        [0, 0, 0, ..., 0, 0, 0],\n",
              "        ...,\n",
              "        [0, 0, 0, ..., 0, 0, 0],\n",
              "        [0, 0, 0, ..., 0, 0, 0],\n",
              "        [0, 0, 0, ..., 0, 0, 0]],\n",
              "\n",
              "       [[0, 0, 0, ..., 0, 0, 0],\n",
              "        [0, 0, 0, ..., 0, 0, 0],\n",
              "        [0, 0, 0, ..., 0, 0, 0],\n",
              "        ...,\n",
              "        [0, 0, 0, ..., 0, 0, 0],\n",
              "        [0, 0, 0, ..., 0, 0, 0],\n",
              "        [0, 0, 0, ..., 0, 0, 0]],\n",
              "\n",
              "       [[0, 0, 0, ..., 0, 0, 0],\n",
              "        [0, 0, 0, ..., 0, 0, 0],\n",
              "        [0, 0, 0, ..., 0, 0, 0],\n",
              "        ...,\n",
              "        [0, 0, 0, ..., 0, 0, 0],\n",
              "        [0, 0, 0, ..., 0, 0, 0],\n",
              "        [0, 0, 0, ..., 0, 0, 0]]], dtype=uint8)"
            ]
          },
          "metadata": {
            "tags": []
          },
          "execution_count": 4
        }
      ]
    },
    {
      "cell_type": "code",
      "metadata": {
        "id": "zpqTfVHvR0c2"
      },
      "source": [
        ""
      ],
      "execution_count": null,
      "outputs": []
    }
  ]
}
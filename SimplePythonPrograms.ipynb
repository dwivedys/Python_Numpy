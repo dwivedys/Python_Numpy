{
  "nbformat": 4,
  "nbformat_minor": 0,
  "metadata": {
    "colab": {
      "name": "SimplePythonPrograms.ipynb",
      "provenance": [],
      "authorship_tag": "ABX9TyMDGEWSarFtWdjzJX2pY8Yg",
      "include_colab_link": true
    },
    "kernelspec": {
      "name": "python3",
      "display_name": "Python 3"
    }
  },
  "cells": [
    {
      "cell_type": "markdown",
      "metadata": {
        "id": "view-in-github",
        "colab_type": "text"
      },
      "source": [
        "<a href=\"https://colab.research.google.com/github/dwivedys/Python_Programs/blob/master/SimplePythonPrograms.ipynb\" target=\"_parent\"><img src=\"https://colab.research.google.com/assets/colab-badge.svg\" alt=\"Open In Colab\"/></a>"
      ]
    },
    {
      "cell_type": "code",
      "metadata": {
        "id": "pV8Sy_J_ee0D"
      },
      "source": [
        "def square(n):\n",
        "  return n * n"
      ],
      "execution_count": 4,
      "outputs": []
    },
    {
      "cell_type": "code",
      "metadata": {
        "colab": {
          "base_uri": "https://localhost:8080/"
        },
        "id": "op3fq3tYellw",
        "outputId": "eb2f269c-e4f9-47ba-9ceb-60b264f99930"
      },
      "source": [
        "square(9)"
      ],
      "execution_count": 5,
      "outputs": [
        {
          "output_type": "execute_result",
          "data": {
            "text/plain": [
              "81"
            ]
          },
          "metadata": {
            "tags": []
          },
          "execution_count": 5
        }
      ]
    },
    {
      "cell_type": "code",
      "metadata": {
        "id": "sLwKki8NW-7p",
        "colab": {
          "base_uri": "https://localhost:8080/"
        },
        "outputId": "90a9a200-e9a8-45b6-e66c-50b915a7d3c6"
      },
      "source": [
        "nums = [1, 2, 4, 6]\n",
        "squared_nums = []\n",
        "for num in nums:\n",
        "  squared_nums.append(square(num))\n",
        "print(squared_nums)"
      ],
      "execution_count": 8,
      "outputs": [
        {
          "output_type": "stream",
          "text": [
            "[1, 4, 16, 36]\n"
          ],
          "name": "stdout"
        }
      ]
    },
    {
      "cell_type": "code",
      "metadata": {
        "colab": {
          "base_uri": "https://localhost:8080/"
        },
        "id": "7yL74hlSSMex",
        "outputId": "12bc3bc6-237a-4831-8f62-54aa279a9269"
      },
      "source": [
        "from getpass import getpass\n",
        "\n",
        "username = input('username: ')\n",
        "password = getpass('password: ')\n",
        "print(\"logging in...\")"
      ],
      "execution_count": null,
      "outputs": [
        {
          "output_type": "stream",
          "text": [
            "username: sa\n",
            "password: ··········\n",
            "logging in...\n"
          ],
          "name": "stdout"
        }
      ]
    },
    {
      "cell_type": "code",
      "metadata": {
        "colab": {
          "base_uri": "https://localhost:8080/"
        },
        "id": "iKcr-Zf6Q38D",
        "outputId": "14029d9c-39fb-4eda-b307-5c3a397c6428"
      },
      "source": [
        "class Person:\n",
        "  pass\n",
        "\n",
        "person_info = {'first':'Saurabh', 'last':'Dwivedy'}\n",
        "for key, val in person_info.items():\n",
        "  setattr(Person, key, val)\n",
        "\n",
        "# print(person.first)\n",
        "# print(person.last)\n",
        "\n",
        "for key in person_info.keys():\n",
        "  print(getattr(person, key))"
      ],
      "execution_count": null,
      "outputs": [
        {
          "output_type": "stream",
          "text": [
            "Saurabh\n",
            "Dwivedy\n",
            "Saurabh\n",
            "Dwivedy\n"
          ],
          "name": "stdout"
        }
      ]
    },
    {
      "cell_type": "code",
      "metadata": {
        "colab": {
          "base_uri": "https://localhost:8080/"
        },
        "id": "mKbVSRqiPGLX",
        "outputId": "7dddd100-d227-4634-e40a-b1f460b6e12d"
      },
      "source": [
        "class Person:\n",
        "  pass\n",
        "\n",
        "person = Person()\n",
        "person.first = \"Saurabh\"\n",
        "person.last = \"Dwivedy\"\n",
        "person.age = 44\n",
        "print(f'First name: {person.first}')\n",
        "print(f'Last name: {person.last}')\n",
        "print(f'{person.first} {person.last} is {person.age} years old')\n"
      ],
      "execution_count": null,
      "outputs": [
        {
          "output_type": "stream",
          "text": [
            "First name: Saurabh\n",
            "Last name: Dwivedy\n",
            "Saurabh Dwivedy is 44 years old\n"
          ],
          "name": "stdout"
        }
      ]
    },
    {
      "cell_type": "code",
      "metadata": {
        "colab": {
          "base_uri": "https://localhost:8080/"
        },
        "id": "2O-0oIQkOYc1",
        "outputId": "e58d38b3-2a9b-4f52-8586-331721d5cc6e"
      },
      "source": [
        "a, b, *_ = [1, 2, 3, 4, 5]\n",
        "print(a, b)"
      ],
      "execution_count": null,
      "outputs": [
        {
          "output_type": "stream",
          "text": [
            "1 2\n"
          ],
          "name": "stdout"
        }
      ]
    },
    {
      "cell_type": "markdown",
      "metadata": {
        "id": "BNt5E3n0eFV_"
      },
      "source": [
        "**Here variables a and b get the first two positional values in the array [1,2] and the remaining values [3,4,5] get \"unpacked\" into the variable c**"
      ]
    },
    {
      "cell_type": "code",
      "metadata": {
        "id": "BifkpqA1OTcF"
      },
      "source": [
        "a, b, *c = [1, 2, 3, 4, 5]"
      ],
      "execution_count": 1,
      "outputs": []
    },
    {
      "cell_type": "code",
      "metadata": {
        "colab": {
          "base_uri": "https://localhost:8080/"
        },
        "id": "h6j_GHXEd5FG",
        "outputId": "df2013e2-c9f6-4248-e984-49d25057ca4e"
      },
      "source": [
        "print(c)"
      ],
      "execution_count": 2,
      "outputs": [
        {
          "output_type": "stream",
          "text": [
            "[3, 4, 5]\n"
          ],
          "name": "stdout"
        }
      ]
    },
    {
      "cell_type": "code",
      "metadata": {
        "colab": {
          "base_uri": "https://localhost:8080/"
        },
        "id": "12hIWcUfEkiT",
        "outputId": "8eb22728-c018-4a4d-e50e-380bad789f80"
      },
      "source": [
        "a, b = [1,2]\n",
        "print(f'a = {a} and b = {b}')"
      ],
      "execution_count": null,
      "outputs": [
        {
          "output_type": "stream",
          "text": [
            "a = 1 and b = 2\n"
          ],
          "name": "stdout"
        }
      ]
    },
    {
      "cell_type": "code",
      "metadata": {
        "colab": {
          "base_uri": "https://localhost:8080/"
        },
        "id": "R8PfIjxIGuTv",
        "outputId": "4b862f97-f9bb-405c-837c-7d3571e911eb"
      },
      "source": [
        "names = ['saurabh', 'gauri', 'suruchi']\n",
        "titles = ['papa', 'beti', 'bibi']\n",
        "for seq, name in enumerate(names):\n",
        "  title = titles[seq]\n",
        "  print(f'{name} is actually {title}')"
      ],
      "execution_count": null,
      "outputs": [
        {
          "output_type": "stream",
          "text": [
            "saurabh is actually papa\n",
            "gauri is actually beti\n",
            "suruchi is actually bibi\n"
          ],
          "name": "stdout"
        }
      ]
    },
    {
      "cell_type": "markdown",
      "metadata": {
        "id": "M4aProuAInkQ"
      },
      "source": [
        ""
      ]
    },
    {
      "cell_type": "code",
      "metadata": {
        "colab": {
          "base_uri": "https://localhost:8080/"
        },
        "id": "SW_2KJ3IIGq4",
        "outputId": "402ad225-cba3-4653-c318-78abed424448"
      },
      "source": [
        "names = ['saurabh', 'gauri', 'suruchi']\n",
        "titles = ['papa', 'beti', 'bibi']\n",
        "for name, title in zip(names, titles):\n",
        "  print(f'{name} is actually {title}')"
      ],
      "execution_count": null,
      "outputs": [
        {
          "output_type": "stream",
          "text": [
            "saurabh is actually papa\n",
            "gauri is actually beti\n",
            "suruchi is actually bibi\n"
          ],
          "name": "stdout"
        }
      ]
    },
    {
      "cell_type": "code",
      "metadata": {
        "colab": {
          "base_uri": "https://localhost:8080/"
        },
        "id": "WJeU5681GgXI",
        "outputId": "f30ad8ee-6c08-4dd3-ee56-60b54b1c3b86"
      },
      "source": [
        "x = 1 if 1 == 1 else 0\n",
        "print(x)"
      ],
      "execution_count": null,
      "outputs": [
        {
          "output_type": "stream",
          "text": [
            "1\n"
          ],
          "name": "stdout"
        }
      ]
    },
    {
      "cell_type": "code",
      "metadata": {
        "id": "eweMkgr_G6P8"
      },
      "source": [
        ""
      ],
      "execution_count": null,
      "outputs": []
    },
    {
      "cell_type": "code",
      "metadata": {
        "colab": {
          "base_uri": "https://localhost:8080/"
        },
        "id": "NpVZVY_RGU0q",
        "outputId": "c4e82b9f-30bc-4e61-bf22-15aa68a7b4d7"
      },
      "source": [
        "condition = True\n",
        "x = 1 if condition else 0\n",
        "print (x)"
      ],
      "execution_count": null,
      "outputs": [
        {
          "output_type": "stream",
          "text": [
            "1\n"
          ],
          "name": "stdout"
        }
      ]
    }
  ]
}
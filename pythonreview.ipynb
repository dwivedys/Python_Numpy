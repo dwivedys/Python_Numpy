{
  "nbformat": 4,
  "nbformat_minor": 0,
  "metadata": {
    "colab": {
      "provenance": [],
      "authorship_tag": "ABX9TyPvTakz0dLojl6gTthM9sQm",
      "include_colab_link": true
    },
    "kernelspec": {
      "name": "python3",
      "display_name": "Python 3"
    },
    "language_info": {
      "name": "python"
    }
  },
  "cells": [
    {
      "cell_type": "markdown",
      "metadata": {
        "id": "view-in-github",
        "colab_type": "text"
      },
      "source": [
        "<a href=\"https://colab.research.google.com/github/dwivedys/Python_Programs/blob/PythonPrograms/pythonreview.ipynb\" target=\"_parent\"><img src=\"https://colab.research.google.com/assets/colab-badge.svg\" alt=\"Open In Colab\"/></a>"
      ]
    },
    {
      "cell_type": "code",
      "execution_count": 7,
      "metadata": {
        "colab": {
          "base_uri": "https://localhost:8080/"
        },
        "id": "ImVSd8WiRBZB",
        "outputId": "9f8c032e-6828-4fbf-b274-2318bbd62d8b"
      },
      "outputs": [
        {
          "output_type": "stream",
          "name": "stdout",
          "text": [
            "1\n",
            "2\n"
          ]
        }
      ],
      "source": [
        "a = [1,2,3]\n",
        "print(a[0])\n",
        "for item in a:\n",
        "  if item%2 == 0:\n",
        "    print(item)\n",
        "    "
      ]
    },
    {
      "cell_type": "code",
      "source": [
        "# Creating a Set\n",
        "myset = {'a', 'b', 'c'}\n",
        "print(myset)"
      ],
      "metadata": {
        "colab": {
          "base_uri": "https://localhost:8080/"
        },
        "id": "YWqgser_UD8G",
        "outputId": "39295f43-29a9-435b-d836-8dc66b739fcb"
      },
      "execution_count": 8,
      "outputs": [
        {
          "output_type": "stream",
          "name": "stdout",
          "text": [
            "{'c', 'b', 'a'}\n"
          ]
        }
      ]
    },
    {
      "cell_type": "code",
      "source": [
        "# Adding elements from an iterable to a set\n",
        "myset.add('d')\n",
        "mylist = [1, 2, 3]\n",
        "myset.update(mylist)\n",
        "print(myset)"
      ],
      "metadata": {
        "colab": {
          "base_uri": "https://localhost:8080/"
        },
        "id": "46iDW1FKYRAv",
        "outputId": "4954cc19-ffbf-47c8-e4a8-b20a533b09d4"
      },
      "execution_count": 10,
      "outputs": [
        {
          "output_type": "stream",
          "name": "stdout",
          "text": [
            "{1, 2, 'b', 3, 'c', 'a', 'd'}\n"
          ]
        }
      ]
    },
    {
      "cell_type": "code",
      "source": [
        "# python classes\n",
        "class Person:\n",
        "  def __init__(self, name, age):\n",
        "    self.name = name\n",
        "    self.age = age\n",
        "\n",
        "sd = Person(\"Sammy\", 34)\n",
        "print (f'Person sd has name as {sd.name} and age {sd.age}')\n",
        "\n",
        "\n",
        "\n"
      ],
      "metadata": {
        "colab": {
          "base_uri": "https://localhost:8080/"
        },
        "id": "fjpjzRavYUgl",
        "outputId": "53357fc6-e763-4a4c-be2c-c82116dbcc7b"
      },
      "execution_count": 16,
      "outputs": [
        {
          "output_type": "stream",
          "name": "stdout",
          "text": [
            "Person sd has name as Sammy and age 34\n"
          ]
        }
      ]
    },
    {
      "cell_type": "code",
      "source": [
        "ages = [13, 15, 16, 19, 22]\n",
        "for age in ages:\n",
        "  print(f'Age = {age} --> I am {\"a minor\" if age < 18 else \"an adult\"}')"
      ],
      "metadata": {
        "colab": {
          "base_uri": "https://localhost:8080/"
        },
        "id": "A_w-0EoTcAns",
        "outputId": "0d309f0b-0aac-4f8d-e421-399da1777dee"
      },
      "execution_count": 22,
      "outputs": [
        {
          "output_type": "stream",
          "name": "stdout",
          "text": [
            "Age = 13 --> I am a minor\n",
            "Age = 15 --> I am a minor\n",
            "Age = 16 --> I am a minor\n",
            "Age = 19 --> I am an adult\n",
            "Age = 22 --> I am an adult\n"
          ]
        }
      ]
    }
  ]
}